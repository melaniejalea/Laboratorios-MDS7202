{
  "cells": [
    {
      "cell_type": "markdown",
      "metadata": {
        "id": "_Tgm8mCA9Dp3"
      },
      "source": [
        "# Laboratorio 7: Clasificación 🤗\n",
        "\n",
        "<center><strong>MDS7202: Laboratorio de Programación Científica para Ciencia de Datos</strong></center>\n"
      ]
    },
    {
      "cell_type": "markdown",
      "metadata": {
        "id": "11Kc_ibM9GXH"
      },
      "source": [
        "### Cuerpo Docente:\n",
        "\n",
        "- Profesores: Ignacio Meza, Sebastián Tinoco\n",
        "- Auxiliares: Catherine Benavides y Consuelo Rojas\n",
        "- Ayudante: Nicolás Ojeda, Eduardo Moya"
      ]
    },
    {
      "cell_type": "markdown",
      "metadata": {
        "id": "u9dUSltr9JrN"
      },
      "source": [
        "### Equipo: SUPER IMPORTANTE - notebooks sin nombre no serán revisados\n",
        "\n",
        "- Nombre de alumno 1: Melanie Peña Torres\n",
        "- Nombre de alumno 2: Valentina Rojas Osorio"
      ]
    },
    {
      "cell_type": "markdown",
      "metadata": {},
      "source": [
        "### **Link de repositorio de GitHub:** `http://....`\n"
      ]
    },
    {
      "cell_type": "markdown",
      "metadata": {
        "id": "YBa48PDF9OHw"
      },
      "source": [
        "### Temas a tratar\n",
        "- Clasificación en problemas desbalanceados\n",
        "- Lightgbm y xgboost\n",
        "- Pipelines"
      ]
    },
    {
      "cell_type": "markdown",
      "metadata": {
        "id": "mkhnnMx49Qrh"
      },
      "source": [
        "### Reglas:\n",
        "\n",
        "- **Grupos de 2 personas**\n",
        "- Cualquier duda fuera del horario de clases al foro. Mensajes al equipo docente serán respondidos por este medio.\n",
        "- Prohibidas las copias.\n",
        "- Pueden usar cualquer matrial del curso que estimen conveniente.\n",
        "- Código que no se pueda ejecutar, no será revisado."
      ]
    },
    {
      "cell_type": "markdown",
      "metadata": {
        "id": "sxzJ48Vv8quO"
      },
      "source": [
        "\n",
        "\n",
        "### Objetivos principales del laboratorio\n",
        "- Comprender cómo trabajar con problemas de clasificación con clases desbalanceadas.\n",
        "- Aplicar los modelos lightgbm y xgboost.\n",
        "- Practicar Pipelines"
      ]
    },
    {
      "cell_type": "markdown",
      "metadata": {
        "id": "k-ao0mOU64Ru"
      },
      "source": [
        "# Parte Teórica [12 puntos]\n",
        "\n",
        "\n"
      ]
    },
    {
      "cell_type": "markdown",
      "metadata": {
        "id": "ApXKwPDmxcEV"
      },
      "source": [
        "1. Explique cuál es la diferencia entre los datos de entrenamiento y validación. [1 punto]\n",
        "\n",
        "2. Explique cuál es el principal desafío al trabajar problemas de clasificación con data no supervisada. [1 punto]\n",
        "\n",
        "3. Explique en **sus palabras** qué es la matriz de confusión y para qué se utiliza. [1 puntos]\n",
        "\n",
        "4. Escriba la fórmula de las siguientes métricas y explique con **sus palabras** cómo se interpretan. [1 punto cada uno]\n",
        "\n",
        "  * Accuracy\n",
        "  * Precision\n",
        "  * Recall\n",
        "  * F1 score\n",
        "\n",
        "5. Explique qué métrica recomendaría para los siguientes contextos de clasificación. [1 punto cada uno]\n",
        "\n",
        "  * Mantenimiento predictivo de fallas de maquinaria pesada en la industria minera.  \n",
        "  * Detección de enfermedades altamente contagiosas.\n",
        "  * Aprobación de créditos de alto riesgo.\n",
        "  * Detección de crímenes.\n",
        "\n",
        "6. Explique qué es la calibración de modelos y para qué se usa. [1 punto]\n"
      ]
    },
    {
      "cell_type": "markdown",
      "metadata": {
        "id": "Yy4QMWD8-FPk"
      },
      "source": [
        "**Respuesta:**"
      ]
    },
    {
      "cell_type": "markdown",
      "metadata": {
        "id": "QYFdD1aK-ICa"
      },
      "source": [
        "*Escriba su respuesta aquí*"
      ]
    },
    {
      "cell_type": "markdown",
      "metadata": {
        "id": "Jg_9jBqtgRDO"
      },
      "source": [
        "# Parte práctica [48 puntos]"
      ]
    },
    {
      "cell_type": "markdown",
      "metadata": {
        "id": "slm6yRfdfZwS"
      },
      "source": [
        "<p align=\"center\">\n",
        "  <img src=\"https://drive.google.com/uc?export=view&id=1BnO4tyh3vM2P199Ec9s3JjngQ4qQ9seP\"\n",
        "\" width=\"300\">\n",
        "</p>\n",
        "\n",
        "\n",
        "Tras el trágico despido de la mítica mascota de Maipú, Renacín decide adentrarse como consultor en el mercado futbolero, el cuál (para variar...) está cargado en especulaciones.\n",
        "\n",
        "Como su principal tarea será asesorar a los directivos de los clubes sobre cuál jugador comprar y cuál no, Renacín desea generar modelos predictivos que evaluén distintas características de los jugadores; todo con el fin de tomar decisiones concretas basadas en los datos.\n",
        "\n",
        "Sin embargo, su condición de corporeo le impidió tomar la versión anterior de MDS7202, por lo que este motivo Renacín contrata a su equipo para lograr su objetivo final. Dado que aún tiene fuertes vínculos con la dirección de deportes de la municipalidad, el corporeo le entrega base de datos con las estadísticas de cada jugador para que su equipo empieze a trabajar ya con un dataset listo para ser usado.\n"
      ]
    },
    {
      "cell_type": "markdown",
      "metadata": {
        "id": "jnbx7RwHfkue"
      },
      "source": [
        "**Los Datos**\n",
        "\n",
        "Para este laboratorio deberán trabajar con el csv `statsplayers.csv`, donde deberán aplicar algoritmos de aprendizaje supervisado de clasificación en base a características que describen de jugadores de fútbol.\n",
        "\n",
        "Para comenzar cargue el dataset señalado y a continuación vea el reporte **`Player_Stats_Report.html`** (adjunto en la carpeta del enunciado) que describe las características principales del `DataFrame`."
      ]
    },
    {
      "cell_type": "code",
      "execution_count": null,
      "metadata": {
        "id": "mX6iwOWUfrp_"
      },
      "outputs": [],
      "source": [
        "# Si usted está utilizando Colabolatory le puede ser útil este código para cargar los archivos.\n",
        "try:\n",
        "    from google.colab import drive\n",
        "    drive.mount(\"/content/drive\")\n",
        "    path = 'Dirección donde tiene los archivos en el Drive'\n",
        "except:\n",
        "    print('Ignorando conexión drive-colab')"
      ]
    },
    {
      "cell_type": "markdown",
      "metadata": {
        "id": "JdcucZhp-M_0"
      },
      "source": [
        "## 1. Predicción de Seleccionados Nacionales [14 puntos]"
      ]
    },
    {
      "cell_type": "markdown",
      "metadata": {
        "id": "HXrewqxjjzvA"
      },
      "source": [
        "<p align=\"center\">\n",
        "  <img src=\"https://www.futuro.cl/wp-content/uploads/2016/06/chile-argentina-meme-12.jpg\" width=\"300\">\n",
        "</p>\n",
        "\n"
      ]
    },
    {
      "cell_type": "markdown",
      "metadata": {
        "id": "Qfre1YsSDqla"
      },
      "source": [
        "### 1.1 Preprocesamiento [5 puntos]"
      ]
    },
    {
      "cell_type": "markdown",
      "metadata": {
        "id": "IR00u4HTDtxv"
      },
      "source": [
        "Tareas:\n",
        "\n",
        "1. Genere los labels para la clasificación binaria en una variable llamada `label`. Para esto, trabaje sobre el atributo `National_Position` suponiendo que los valores nulos son jugadores no seleccionados para representar a su país. [Sin puntaje] ✅\n",
        "\n",
        "2. Hecho esto, ¿cuántos se tienen ejemplos por cada clase? Comente lo que observa. [1 punto] ✅\n",
        "\n",
        "3. Genere un `ColumnTransformer` en donde especifique las transformaciones que hay que realizar para cada columna (por ejemplo StandarScaler, MinMaxScaler, OneHotEncoder, etc...) para que puedan ser utilizadas correctamente por el modelo predictivo y guárdelo una variable llamada `col_transformer`. [2 puntos] ✅\n",
        "\n",
        "4. Comente y justifique las transformaciones elegidas sobre cada una de las variables (para esto utilice el material `Player_Stats_Report.html` que viene en el zip del lab), al igual que las transformaciones aplicadas. [2 puntos] ✅"
      ]
    },
    {
      "cell_type": "markdown",
      "metadata": {
        "id": "tgAk0kbPjEsx"
      },
      "source": [
        "**Respuesta:**"
      ]
    },
    {
      "cell_type": "code",
      "execution_count": 3,
      "metadata": {},
      "outputs": [],
      "source": [
        "import pandas as pd\n",
        "from sklearn.compose import ColumnTransformer\n",
        "from sklearn.preprocessing import OneHotEncoder, StandardScaler, LabelEncoder"
      ]
    },
    {
      "cell_type": "code",
      "execution_count": 4,
      "metadata": {
        "id": "JhC2sZj9dSI1"
      },
      "outputs": [
        {
          "data": {
            "text/html": [
              "<div>\n",
              "<style scoped>\n",
              "    .dataframe tbody tr th:only-of-type {\n",
              "        vertical-align: middle;\n",
              "    }\n",
              "\n",
              "    .dataframe tbody tr th {\n",
              "        vertical-align: top;\n",
              "    }\n",
              "\n",
              "    .dataframe thead th {\n",
              "        text-align: right;\n",
              "    }\n",
              "</style>\n",
              "<table border=\"1\" class=\"dataframe\">\n",
              "  <thead>\n",
              "    <tr style=\"text-align: right;\">\n",
              "      <th></th>\n",
              "      <th>Name</th>\n",
              "      <th>Nationality</th>\n",
              "      <th>National_Position</th>\n",
              "      <th>Club_Position</th>\n",
              "      <th>Height</th>\n",
              "      <th>Weight</th>\n",
              "      <th>Preffered_Foot</th>\n",
              "      <th>Age</th>\n",
              "      <th>Work_Rate</th>\n",
              "      <th>Weak_foot</th>\n",
              "      <th>...</th>\n",
              "      <th>Jumping</th>\n",
              "      <th>Heading</th>\n",
              "      <th>Shot_Power</th>\n",
              "      <th>Finishing</th>\n",
              "      <th>Long_Shots</th>\n",
              "      <th>Curve</th>\n",
              "      <th>Freekick_Accuracy</th>\n",
              "      <th>Penalties</th>\n",
              "      <th>Volleys</th>\n",
              "      <th>label</th>\n",
              "    </tr>\n",
              "  </thead>\n",
              "  <tbody>\n",
              "    <tr>\n",
              "      <th>0</th>\n",
              "      <td>Cristiano Ronaldo</td>\n",
              "      <td>Portugal</td>\n",
              "      <td>LS</td>\n",
              "      <td>LW</td>\n",
              "      <td>185</td>\n",
              "      <td>80</td>\n",
              "      <td>Right</td>\n",
              "      <td>32</td>\n",
              "      <td>High / Low</td>\n",
              "      <td>4</td>\n",
              "      <td>...</td>\n",
              "      <td>95</td>\n",
              "      <td>85</td>\n",
              "      <td>92</td>\n",
              "      <td>93</td>\n",
              "      <td>90</td>\n",
              "      <td>81</td>\n",
              "      <td>76</td>\n",
              "      <td>85</td>\n",
              "      <td>88</td>\n",
              "      <td>Seleccionado</td>\n",
              "    </tr>\n",
              "    <tr>\n",
              "      <th>1</th>\n",
              "      <td>Lionel Messi</td>\n",
              "      <td>Argentina</td>\n",
              "      <td>RW</td>\n",
              "      <td>RW</td>\n",
              "      <td>170</td>\n",
              "      <td>72</td>\n",
              "      <td>Left</td>\n",
              "      <td>29</td>\n",
              "      <td>Medium / Medium</td>\n",
              "      <td>4</td>\n",
              "      <td>...</td>\n",
              "      <td>68</td>\n",
              "      <td>71</td>\n",
              "      <td>85</td>\n",
              "      <td>95</td>\n",
              "      <td>88</td>\n",
              "      <td>89</td>\n",
              "      <td>90</td>\n",
              "      <td>74</td>\n",
              "      <td>85</td>\n",
              "      <td>Seleccionado</td>\n",
              "    </tr>\n",
              "    <tr>\n",
              "      <th>2</th>\n",
              "      <td>Neymar</td>\n",
              "      <td>Brazil</td>\n",
              "      <td>LW</td>\n",
              "      <td>LW</td>\n",
              "      <td>174</td>\n",
              "      <td>68</td>\n",
              "      <td>Right</td>\n",
              "      <td>25</td>\n",
              "      <td>High / Medium</td>\n",
              "      <td>5</td>\n",
              "      <td>...</td>\n",
              "      <td>61</td>\n",
              "      <td>62</td>\n",
              "      <td>78</td>\n",
              "      <td>89</td>\n",
              "      <td>77</td>\n",
              "      <td>79</td>\n",
              "      <td>84</td>\n",
              "      <td>81</td>\n",
              "      <td>83</td>\n",
              "      <td>Seleccionado</td>\n",
              "    </tr>\n",
              "    <tr>\n",
              "      <th>3</th>\n",
              "      <td>Luis Suárez</td>\n",
              "      <td>Uruguay</td>\n",
              "      <td>LS</td>\n",
              "      <td>ST</td>\n",
              "      <td>182</td>\n",
              "      <td>85</td>\n",
              "      <td>Right</td>\n",
              "      <td>30</td>\n",
              "      <td>High / Medium</td>\n",
              "      <td>4</td>\n",
              "      <td>...</td>\n",
              "      <td>69</td>\n",
              "      <td>77</td>\n",
              "      <td>87</td>\n",
              "      <td>94</td>\n",
              "      <td>86</td>\n",
              "      <td>86</td>\n",
              "      <td>84</td>\n",
              "      <td>85</td>\n",
              "      <td>88</td>\n",
              "      <td>Seleccionado</td>\n",
              "    </tr>\n",
              "    <tr>\n",
              "      <th>4</th>\n",
              "      <td>Manuel Neuer</td>\n",
              "      <td>Germany</td>\n",
              "      <td>GK</td>\n",
              "      <td>GK</td>\n",
              "      <td>193</td>\n",
              "      <td>92</td>\n",
              "      <td>Right</td>\n",
              "      <td>31</td>\n",
              "      <td>Medium / Medium</td>\n",
              "      <td>4</td>\n",
              "      <td>...</td>\n",
              "      <td>78</td>\n",
              "      <td>25</td>\n",
              "      <td>25</td>\n",
              "      <td>13</td>\n",
              "      <td>16</td>\n",
              "      <td>14</td>\n",
              "      <td>11</td>\n",
              "      <td>47</td>\n",
              "      <td>11</td>\n",
              "      <td>Seleccionado</td>\n",
              "    </tr>\n",
              "  </tbody>\n",
              "</table>\n",
              "<p>5 rows × 40 columns</p>\n",
              "</div>"
            ],
            "text/plain": [
              "                Name Nationality National_Position Club_Position  Height  \\\n",
              "0  Cristiano Ronaldo    Portugal                LS            LW     185   \n",
              "1       Lionel Messi   Argentina                RW            RW     170   \n",
              "2             Neymar      Brazil                LW            LW     174   \n",
              "3        Luis Suárez     Uruguay                LS            ST     182   \n",
              "4       Manuel Neuer     Germany                GK            GK     193   \n",
              "\n",
              "   Weight Preffered_Foot  Age        Work_Rate  Weak_foot  ...  Jumping  \\\n",
              "0      80          Right   32       High / Low          4  ...       95   \n",
              "1      72           Left   29  Medium / Medium          4  ...       68   \n",
              "2      68          Right   25    High / Medium          5  ...       61   \n",
              "3      85          Right   30    High / Medium          4  ...       69   \n",
              "4      92          Right   31  Medium / Medium          4  ...       78   \n",
              "\n",
              "   Heading  Shot_Power  Finishing  Long_Shots  Curve  Freekick_Accuracy  \\\n",
              "0       85          92         93          90     81                 76   \n",
              "1       71          85         95          88     89                 90   \n",
              "2       62          78         89          77     79                 84   \n",
              "3       77          87         94          86     86                 84   \n",
              "4       25          25         13          16     14                 11   \n",
              "\n",
              "   Penalties  Volleys         label  \n",
              "0         85       88  Seleccionado  \n",
              "1         74       85  Seleccionado  \n",
              "2         81       83  Seleccionado  \n",
              "3         85       88  Seleccionado  \n",
              "4         47       11  Seleccionado  \n",
              "\n",
              "[5 rows x 40 columns]"
            ]
          },
          "execution_count": 4,
          "metadata": {},
          "output_type": "execute_result"
        }
      ],
      "source": [
        "# Punto 1\n",
        "df = pd.read_csv('stats_players.csv')\n",
        "df['label'] = df['National_Position'].apply(lambda x: 'Seleccionado' if pd.notna(x) else 'No seleccionado')\n",
        "df.head()"
      ]
    },
    {
      "cell_type": "markdown",
      "metadata": {},
      "source": [
        "Según lo que entendemos del enunciado, aquellos valores nulos presentes en la columna `National_Position` significan que los jugadores no van a ser seleccionados, por lo que se les aplica la etiqueta de `No seleccionado`. En cambio, aquellos registros que sí estén rellenados con cualquier tipo de valor significan que el jugador sí va a ser seleccionado, por lo que se les aplica la etiqueta de `Seleccionado`."
      ]
    },
    {
      "cell_type": "code",
      "execution_count": 5,
      "metadata": {},
      "outputs": [
        {
          "data": {
            "text/plain": [
              "label\n",
              "No seleccionado    16513\n",
              "Seleccionado        1075\n",
              "Name: count, dtype: int64"
            ]
          },
          "execution_count": 5,
          "metadata": {},
          "output_type": "execute_result"
        }
      ],
      "source": [
        "# Punto 2\n",
        "df['label'].value_counts()"
      ]
    },
    {
      "cell_type": "code",
      "execution_count": 6,
      "metadata": {},
      "outputs": [
        {
          "name": "stdout",
          "output_type": "stream",
          "text": [
            "<class 'pandas.core.frame.DataFrame'>\n",
            "RangeIndex: 17588 entries, 0 to 17587\n",
            "Data columns (total 40 columns):\n",
            " #   Column             Non-Null Count  Dtype \n",
            "---  ------             --------------  ----- \n",
            " 0   Name               17588 non-null  object\n",
            " 1   Nationality        17588 non-null  object\n",
            " 2   National_Position  1075 non-null   object\n",
            " 3   Club_Position      17587 non-null  object\n",
            " 4   Height             17588 non-null  int64 \n",
            " 5   Weight             17588 non-null  int64 \n",
            " 6   Preffered_Foot     17588 non-null  object\n",
            " 7   Age                17588 non-null  int64 \n",
            " 8   Work_Rate          17588 non-null  object\n",
            " 9   Weak_foot          17588 non-null  int64 \n",
            " 10  Skill_Moves        17588 non-null  int64 \n",
            " 11  Ball_Control       17588 non-null  int64 \n",
            " 12  Dribbling          17588 non-null  int64 \n",
            " 13  Marking            17588 non-null  int64 \n",
            " 14  Sliding_Tackle     17588 non-null  int64 \n",
            " 15  Standing_Tackle    17588 non-null  int64 \n",
            " 16  Aggression         17588 non-null  int64 \n",
            " 17  Reactions          17588 non-null  int64 \n",
            " 18  Interceptions      17588 non-null  int64 \n",
            " 19  Vision             17588 non-null  int64 \n",
            " 20  Composure          17588 non-null  int64 \n",
            " 21  Crossing           17588 non-null  int64 \n",
            " 22  Short_Pass         17588 non-null  int64 \n",
            " 23  Long_Pass          17588 non-null  int64 \n",
            " 24  Acceleration       17588 non-null  int64 \n",
            " 25  Speed              17588 non-null  int64 \n",
            " 26  Stamina            17588 non-null  int64 \n",
            " 27  Strength           17588 non-null  int64 \n",
            " 28  Balance            17588 non-null  int64 \n",
            " 29  Agility            17588 non-null  int64 \n",
            " 30  Jumping            17588 non-null  int64 \n",
            " 31  Heading            17588 non-null  int64 \n",
            " 32  Shot_Power         17588 non-null  int64 \n",
            " 33  Finishing          17588 non-null  int64 \n",
            " 34  Long_Shots         17588 non-null  int64 \n",
            " 35  Curve              17588 non-null  int64 \n",
            " 36  Freekick_Accuracy  17588 non-null  int64 \n",
            " 37  Penalties          17588 non-null  int64 \n",
            " 38  Volleys            17588 non-null  int64 \n",
            " 39  label              17588 non-null  object\n",
            "dtypes: int64(33), object(7)\n",
            "memory usage: 5.4+ MB\n"
          ]
        }
      ],
      "source": [
        "df.info()"
      ]
    },
    {
      "cell_type": "markdown",
      "metadata": {},
      "source": [
        "Podemos notar que hay una gran cantidad de registros con jugadores  `No seleccionado` a partir del etiquetado realizado anteriormente, alcanzando un total de 16,513 registros de un total de 17,588. Esto significa que casi el 94% de los jugadores no fueron seleccionados, quedando una parte muy pequeña de estos jugadores como seleccionados para jugar. Por lo tanto, se podría asumir que solo una pequeña cantidad de jugadores posee las cualidades suficientes para ser parte de la selección que representa a su país, siendo estos la élite de jugadores.\n"
      ]
    },
    {
      "cell_type": "code",
      "execution_count": 7,
      "metadata": {},
      "outputs": [
        {
          "data": {
            "text/plain": [
              "Index(['Name', 'Nationality', 'National_Position', 'Club_Position',\n",
              "       'Preffered_Foot', 'Work_Rate', 'label'],\n",
              "      dtype='object')"
            ]
          },
          "execution_count": 7,
          "metadata": {},
          "output_type": "execute_result"
        }
      ],
      "source": [
        "df.select_dtypes(include=['object']).columns"
      ]
    },
    {
      "cell_type": "code",
      "execution_count": 8,
      "metadata": {},
      "outputs": [
        {
          "data": {
            "text/plain": [
              "Index(['Height', 'Weight', 'Age', 'Weak_foot', 'Skill_Moves', 'Ball_Control',\n",
              "       'Dribbling', 'Marking', 'Sliding_Tackle', 'Standing_Tackle',\n",
              "       'Aggression', 'Reactions', 'Interceptions', 'Vision', 'Composure',\n",
              "       'Crossing', 'Short_Pass', 'Long_Pass', 'Acceleration', 'Speed',\n",
              "       'Stamina', 'Strength', 'Balance', 'Agility', 'Jumping', 'Heading',\n",
              "       'Shot_Power', 'Finishing', 'Long_Shots', 'Curve', 'Freekick_Accuracy',\n",
              "       'Penalties', 'Volleys'],\n",
              "      dtype='object')"
            ]
          },
          "execution_count": 8,
          "metadata": {},
          "output_type": "execute_result"
        }
      ],
      "source": [
        "df.select_dtypes(include=['int64']).columns"
      ]
    },
    {
      "cell_type": "code",
      "execution_count": 9,
      "metadata": {},
      "outputs": [],
      "source": [
        "#columnas para one hot encoder\n",
        "batch_1 = ['Nationality', 'Club_Position','Preffered_Foot', 'Work_Rate']\n",
        "#columnas para standard scaler\n",
        "batch_2 = ['Height', 'Weight', 'Age', 'Ball_Control',\n",
        "       'Dribbling', 'Marking', 'Sliding_Tackle', 'Standing_Tackle',\n",
        "       'Aggression', 'Reactions', 'Interceptions', 'Vision', 'Composure',\n",
        "       'Crossing', 'Short_Pass', 'Long_Pass', 'Acceleration', 'Speed',\n",
        "       'Stamina', 'Strength', 'Balance', 'Agility', 'Jumping', 'Heading',\n",
        "       'Shot_Power', 'Finishing', 'Long_Shots', 'Curve', 'Freekick_Accuracy',\n",
        "       'Penalties', 'Volleys']\n",
        "#columnas ya codificadas\n",
        "batch_3 = ['Skill_Moves','Weak_foot']"
      ]
    },
    {
      "cell_type": "code",
      "execution_count": 10,
      "metadata": {},
      "outputs": [],
      "source": [
        "# Punto 3\n",
        "col_transformer = ColumnTransformer(\n",
        "    transformers=[\n",
        "        ('OneHotEncoder', OneHotEncoder(handle_unknown='ignore'),  batch_1),\n",
        "        ('StandardScaler', StandardScaler(), batch_2)],\n",
        "        remainder='passthrough')"
      ]
    },
    {
      "cell_type": "markdown",
      "metadata": {},
      "source": [
        "Punto 4 :\n",
        "\n",
        "Analizamos detalladamente los datos en `Player_Stats_Report.html`, además de utilizar la función `select_dtypes` para verificar qué tipos de columnas existían dentro de los registros. Verificamos que dos columnas en particular, `Skill_Moves` y `Weak_foot`, corresponden a columnas con valores numéricos, pero tenemos la idea de que sus valores corresponden a niveles que indican cuán buenas son estas habilidades y cuán débil es su peor pie en una escala del 1 al 5. Esto lo confirmamos dentro del `html` dado que considera esas variables como categóricas.\n",
        "\n",
        "Finalmente, separamos las columnas para el `column_transformer` en batches. El batch_1 corresponde a las columnas categóricas que se van a utilizar. Cabe notar que `Name`, `National_Position` y `label` no se encuentran presentes en este batch. No incluimos `Name` dado que estimamos que los nombres de los jugadores no son un factor que deba influir en si este será un jugador seleccionado o no. `National_Position` no se incluye dado que se debe utilizar `label` para el modelo, y no se incluye `label` dado que este será el target del modelo y debe estar separado. Utilizamos el transformador `One Hot Encoder` sobre estas variables categóricas para convertirlas en una representación binaria, permitiendo que el modelo pueda procesarlas sin asumir un orden o jerarquía entre las categorías.\n",
        "\n",
        "El batch_2 corresponde a las variables numéricas del dataframe que confirmamos sean datos numéricos reales, es decir, que no representen niveles o similares. Se incluyen todas las variables numéricas identificadas con `select_dtypes` y confirmadas con el `html`. Utilizamos el transformador `StandardScaler` para normalizar estas variables numéricas, ajustando sus valores para que tengan una media de 0 y una desviación estándar de 1.\n",
        "\n",
        "Finalmente, identificamos en un batch_3 las columnas que ya están codificadas pero que no deben pasar por ningún transformador. Estas corresponden a las dos variables identificadas anteriormente, `Skill_Moves` y `Weak_foot`."
      ]
    },
    {
      "cell_type": "markdown",
      "metadata": {
        "id": "Bv1HOfcNEPF4"
      },
      "source": [
        "### 1.2 Entrenamiento [3 puntos]"
      ]
    },
    {
      "cell_type": "markdown",
      "metadata": {
        "id": "whPkuXTUBvB0"
      },
      "source": [
        "Ahora, vamos a entrenar los pipelines generados en los pasos anteriores. Para esto, debe realizar las siguientes tareas:\n",
        "\n",
        "1. Separe los datos de entrenamiento en un conjunto de entrenamiento y de prueba  (la proporción queda a su juicio). En este paso, seleccione los ejemplos de forma aleatoria e intente mantener la distribución original de labels de cada clase en los conjuntos de prueba/entrenamiento. (vea la documentación de `train_test_split`). [1 puntos] ✅\n",
        "\n",
        "\n",
        "2. Defina un pipeline llamado `pipeline_xgboost` y otro llamado `pipeline_lightgbm`. Estos pipelines deben tener el mismo ColumnTransformer definido en la sección de preprocesamiento, pero deben variar los clasificadores de acuerdo al nombre de cada pipeline. [1 puntos] ✅\n",
        "\n",
        "3. Entrene los pipelines. [1 punto] ✅\n",
        "\n"
      ]
    },
    {
      "cell_type": "markdown",
      "metadata": {
        "id": "kbadONFtjGnE"
      },
      "source": [
        "**Respuesta:**"
      ]
    },
    {
      "cell_type": "code",
      "execution_count": 11,
      "metadata": {},
      "outputs": [],
      "source": [
        "from sklearn.model_selection import train_test_split\n",
        "from sklearn.pipeline import Pipeline\n",
        "from xgboost import XGBClassifier\n",
        "from lightgbm import LGBMClassifier"
      ]
    },
    {
      "cell_type": "code",
      "execution_count": 29,
      "metadata": {
        "id": "lLtlXGTPdWAV"
      },
      "outputs": [],
      "source": [
        "# Punto 1\n",
        "data = df.drop(columns=['label','Name','National_Position'])\n",
        "target = df['label']\n",
        "X_train, X_test, y_train, y_test = train_test_split(data, target, test_size=0.2, random_state=42, stratify=target)"
      ]
    },
    {
      "cell_type": "markdown",
      "metadata": {},
      "source": [
        "Dropeamos las columnas especificadas en el punto 4 de la sección anterior, creando así una variable `data` y una variable `target` para el modelo. Separamos los datos en un 20% para el testeo y un 80% para el entrenamiento. Añadimos un `seed` con valor 42 para mantener la aleatoriedad de los datos. Además, para mantener la proporción por clase, se añade el parámetro `stratify` con respecto a `labels`. Hay que notar que `label` posee las clases de `Seleccionado` y `No seleccionado`, pero para la evaluación del modelo necesitan ser codificadas de manera numérica, por lo que se utiliza un `LabelEncoder` para poder codificarlas."
      ]
    },
    {
      "cell_type": "code",
      "execution_count": 30,
      "metadata": {},
      "outputs": [],
      "source": [
        "# Codificación de las variables de label\n",
        "label = LabelEncoder()\n",
        "y_train = label.fit_transform(y_train)\n",
        "y_test = label.transform(y_test)"
      ]
    },
    {
      "cell_type": "code",
      "execution_count": 31,
      "metadata": {},
      "outputs": [
        {
          "data": {
            "text/plain": [
              "array(['No seleccionado', 'Seleccionado'], dtype=object)"
            ]
          },
          "execution_count": 31,
          "metadata": {},
          "output_type": "execute_result"
        }
      ],
      "source": [
        "label.classes_"
      ]
    },
    {
      "cell_type": "code",
      "execution_count": 32,
      "metadata": {},
      "outputs": [
        {
          "data": {
            "text/plain": [
              "array([0, 1], dtype=int64)"
            ]
          },
          "execution_count": 32,
          "metadata": {},
          "output_type": "execute_result"
        }
      ],
      "source": [
        "label.fit_transform(['No seleccionado', 'Seleccionado'])"
      ]
    },
    {
      "cell_type": "markdown",
      "metadata": {},
      "source": [
        "* 0 representa a `No Seleccionado`\n",
        "* 1 representa a `Seleccionado`"
      ]
    },
    {
      "cell_type": "code",
      "execution_count": 33,
      "metadata": {},
      "outputs": [],
      "source": [
        "# Punto 2\n",
        "pipeline_xgboost = Pipeline(steps=[('preprocessor', col_transformer),\n",
        "                        ('classifier', XGBClassifier())])\n",
        "pipeline_lightbm = Pipeline(steps=[('preprocessor', col_transformer),  \n",
        "                        ('classifier', LGBMClassifier(verbose=-1))])"
      ]
    },
    {
      "cell_type": "code",
      "execution_count": 34,
      "metadata": {},
      "outputs": [],
      "source": [
        "# Punto 3.1\n",
        "xgboost_trained = pipeline_xgboost.fit(X_train, y_train)"
      ]
    },
    {
      "cell_type": "code",
      "execution_count": 35,
      "metadata": {},
      "outputs": [],
      "source": [
        "# Punto 3.2\n",
        "lightbm_trained = pipeline_lightbm.fit(X_train, y_train)"
      ]
    },
    {
      "cell_type": "markdown",
      "metadata": {
        "id": "poc9HSNBFeKO"
      },
      "source": [
        "### 1.3 Resultados [6 puntos]"
      ]
    },
    {
      "cell_type": "markdown",
      "metadata": {
        "id": "tGGCj8YtFil1"
      },
      "source": [
        "1. Calcule las métricas accuracy, precisión y recall de la clase positiva (la que indica que un jugador es seleccionado nacional) para evaluar el rendimiento de los distintos modelos. Verifique sus resultados usando `classification_report`. [2 puntos]\n",
        "\n",
        "2. Explique qué implican los valores de accuracy, precisión y recall de la clase positiva (la que indica que un jugador es seleccionado nacional) y cómo influye la cantidad de ejemplos por clase en los resultados obtenidos. [2 puntos]\n",
        "\n",
        "3. Explique qué métrica le parece más adecuada y concluya qué modelo tiene un mejor desempeño. [2 puntos]"
      ]
    },
    {
      "cell_type": "markdown",
      "metadata": {
        "id": "A1hkVFdujJTi"
      },
      "source": [
        "**Respuesta:**"
      ]
    },
    {
      "cell_type": "code",
      "execution_count": 36,
      "metadata": {
        "id": "QNmI_tbbdQte"
      },
      "outputs": [],
      "source": [
        "from sklearn.metrics import classification_report"
      ]
    },
    {
      "cell_type": "code",
      "execution_count": 37,
      "metadata": {},
      "outputs": [
        {
          "name": "stdout",
          "output_type": "stream",
          "text": [
            "XGBoost Score for Player Classification regarding National_Position/label\n",
            "              precision    recall  f1-score   support\n",
            "\n",
            "           0       0.96      0.99      0.97      3303\n",
            "           1       0.66      0.38      0.48       215\n",
            "\n",
            "    accuracy                           0.95      3518\n",
            "   macro avg       0.81      0.68      0.73      3518\n",
            "weighted avg       0.94      0.95      0.94      3518\n",
            "\n"
          ]
        }
      ],
      "source": [
        "#Punto 1.1\n",
        "print('XGBoost Score for Player Classification regarding National_Position/label') \n",
        "print(classification_report(y_test, xgboost_trained.predict(X_test)))"
      ]
    },
    {
      "cell_type": "code",
      "execution_count": 38,
      "metadata": {},
      "outputs": [
        {
          "name": "stdout",
          "output_type": "stream",
          "text": [
            "LightGBM Score for Player Classification regarding National_Position/label\n",
            "              precision    recall  f1-score   support\n",
            "\n",
            "           0       0.96      0.99      0.97      3303\n",
            "           1       0.68      0.36      0.47       215\n",
            "\n",
            "    accuracy                           0.95      3518\n",
            "   macro avg       0.82      0.67      0.72      3518\n",
            "weighted avg       0.94      0.95      0.94      3518\n",
            "\n"
          ]
        }
      ],
      "source": [
        "#Punto 1.2\n",
        "print('LightGBM Score for Player Classification regarding National_Position/label')\n",
        "print(classification_report(y_test, lightbm_trained.predict(X_test)))"
      ]
    },
    {
      "cell_type": "markdown",
      "metadata": {},
      "source": [
        "Punto 2 :\n",
        "\n",
        "\n",
        "* **Accuracy**: Esta métrica corresponde a la proporción de predicciones correctas con respecto al total de predicciones. Podemos notar que ambos modelos, tanto XGBoost como LightGBM, obtienen altos valores de `accuracy`. Sin embargo, esto corresponde a un valor engañoso en este caso, dado que hay una mayor cantidad de registros con la clase 0 (`No seleccionado`). Esto significa que la accuracy está altamente influenciada por estos valores, por lo que se puede afirmar que es un buen clasificador para verificar que un jugador no sea seleccionado, pero no se puede decir lo mismo para verificar si un jugador es seleccionado.\n",
        "\n",
        "* **Precision**: Esta métrica corresponde a la proporción de predicciones `True Positive` (jugadores correctamente identificados como seleccionados para jugar) sobre el total de verdaderos positivas (`True Positive + False Positive`). Podemos notar que el modelo XGBoost posee una precisión para la clase 1 (`Seleccionado`) de 0.66 y el modelo LightGBM de 0.68. Podemos afirmar que este es un valor aceptable al ser mayor de 0.5, pero no es de los mejores, dado que sería ideal obtener métricas mayores o similares a 0.7 (meta planteada por nosotras). Este valor puede demostrar que hay muchas predicciones `False Positive` para ambos modelos (dado que obtienen valores similares), lo que significa que los modelos están identificando incorrectamente a jugadores como seleccionados cuando no lo son en verdad.\n",
        "\n",
        "* **Recall**: Esta métrica corresponde a la proporción de predicciones `True Positive` con respecto al total de positivos reales (`True Positive + False Negative`). Podemos notar que el modelo XGBoost posee un recall para la clase 1 (`Seleccionado`) de 0.38 y el modelo LightGBM posee un recall de 0.36, por lo que podemos afirmar que ambos modelos están fallando al identificar a los jugadores que de verdad deben ser seleccionados.\n",
        "\n",
        "Como podemos verificar del `classification_report`, todos los modelos para esta clase poseen métricas bajas (esto depende de cómo se definieron las metas del modelo; nosotras estimamos que valores desde 0.7 y más son mejores). Esto se debe a que se tiene muy pocos datos de jugadores `Seleccionados`, que como vimos anteriormente, son solo 1075 de un total de 17588, por lo que hay un claro desbalance de clases que resulta en estas métricas para el modelo. Como podemos ver, las métricas para la clase 0 en cambio son altas, dado que se tiene una mayor cantidad de estos, por lo que los modelos son buenos clasificadores para esta clase pero no para la clase 1, dado que estos modelos no tienen suficientes datos para aprender los `features` de esta clase minoritaria.\n",
        "\n",
        "Punto 3 :\n",
        "\n",
        "A partir de todo el análisis y visualización anteriores, podemos verificar que ambos modelos obtienen métricas muy similares. De hecho, sus valores difieren en solo unos 0.03-0.02 como máximo. Por esta razón, es difícil determinar con certeza qué métrica sería la más adecuada para decidir cuál modelo es mejor. Sin embargo, vamos a tomar como métrica definitiva el `F1-score`, que combina tanto la `Precision` como el `Recall` en una métrica única, siendo una media harmónica de estos. Un valor de `F1-score` igual a 1 indica una `Precision` y `Recall` perfectas, mientras que un valor de 0 significa que tanto la `Precision` como el `Recall` son 0. Basándonos en esta métrica, dado que XGBoost obtiene un valor ligeramente mayor que LightGBM, elegimos finalmente XGBoost como el mejor modelo."
      ]
    },
    {
      "cell_type": "markdown",
      "metadata": {
        "id": "uy5VMU6ae_g6"
      },
      "source": [
        "## 2. Predicción de posiciones de jugadores [4 puntos]"
      ]
    },
    {
      "cell_type": "markdown",
      "metadata": {
        "id": "S0PGg_hLgr4H"
      },
      "source": [
        "<p align=\"center\">\n",
        "  <img src=\"https://pbs.twimg.com/media/E1rfA1aWEAYU6Ny.jpg\" width=\"300\">\n",
        "</p>"
      ]
    },
    {
      "cell_type": "markdown",
      "metadata": {
        "id": "I6rSnAesfOm3"
      },
      "source": [
        "En una nueva jornada de desmesuradas transacciones deportivas, Renacín escuchó a sus colegas discutir acerca de que el precio de cada jugador depende en gran medida de la posición en la cancha en la que juega. Y además, que hay bastantes jugadores nuevos que no tienen muy claro en que posición verdaderamente brillarían, por lo que actualmente puede que actualmente estén jugando en posiciones sub-optimas.\n",
        "\n",
        "Viendo que los resultados del primer análisis no son tan esperanzadores, el corporeo los comanda a cambiar su tarea: ahora, les solicita que construyan un clasificador enfocado en predecir la mejor posición de los jugadores en la cancha según sus características.\n",
        "\n",
        "Para lograr esto, primero, les pide que etiqueten de la siguiente manera los valores que aparecen en el atributo `Club_Position`, pidiendo que agrupen los valores en los siguientes grupos:\n",
        "\n",
        "**Nota**:  Renacín les recalca que **no deben utilizar los valores ```Sub``` y ```Res``` de esta columna**.\n",
        "\n",
        "```python\n",
        "ataque = ['ST', 'CF']\n",
        "central_ataque = ['RW', 'CAM', 'LW']\n",
        "central = ['RM', 'CM', 'LM']\n",
        "central_defensa = ['RWB', 'CDM', 'LWB']\n",
        "defensa = ['RB', 'CB', 'LB']\n",
        "arquero = ['GK']\n",
        "```\n",
        "\n",
        "La elección del clasificador se justificar en base a la siguiente [guía](https://scikit-learn.org/stable/tutorial/machine_learning_map/index.html) y se deben comentar los resultados obtenidos en la clasificación.\n",
        "\n",
        "**Tareas:** [1 punto por tarea]\n",
        "\n",
        "1. Aplique las etiquetas descritas anteriormente en cada uno de los valores señalados en esta sección. ✅\n",
        "2. Cuente cuántos por clase quedan. ✅\n",
        "3. Entrene el nuevo pipeline y ejecute una evaluación de este.  ✅\n",
        "4. Comente los resultados obtenidos. ✅"
      ]
    },
    {
      "cell_type": "markdown",
      "metadata": {
        "id": "sBmSaWh8i2MI"
      },
      "source": [
        "**Respuesta:**"
      ]
    },
    {
      "cell_type": "code",
      "execution_count": 40,
      "metadata": {},
      "outputs": [
        {
          "data": {
            "text/plain": [
              "array(['LW', 'RW', 'ST', 'GK', 'Sub', 'RCM', 'CAM', 'LCB', 'LCM', 'RS',\n",
              "       'RB', 'RCB', 'LM', 'LDM', 'RM', 'LB', 'CDM', 'RDM', 'LF', 'CB',\n",
              "       'LAM', 'Res', 'CM', 'LS', 'RF', 'RWB', 'RAM', 'LWB', nan, 'CF'],\n",
              "      dtype=object)"
            ]
          },
          "execution_count": 40,
          "metadata": {},
          "output_type": "execute_result"
        }
      ],
      "source": [
        "df['Club_Position'].unique()"
      ]
    },
    {
      "cell_type": "markdown",
      "metadata": {},
      "source": [
        "Al analizar detenidamente los valores dentro de la columna `Club_Position`, observamos que, a pesar de que se nos solicita agrupar ciertos valores para las nuevas etiquetas, hay algunos valores aparte de `Sub` y `Res` que no se utilizan, como `LAM`. Por lo tanto, filtramos el DataFrame de manera que obtengamos un nuevo DataFrame `df_clubes` que contenga únicamente los valores necesarios para obtener las etiquetas requeridas."
      ]
    },
    {
      "cell_type": "code",
      "execution_count": 41,
      "metadata": {},
      "outputs": [],
      "source": [
        "clubes = ['STF','CF', 'RW', 'CAM','LW', 'RM','CM','LM', 'RWB','CDM','LWB', 'RB','CB','LB','GK']\n",
        "df_clubes = df[df['Club_Position'].isin(clubes)]"
      ]
    },
    {
      "cell_type": "code",
      "execution_count": 42,
      "metadata": {},
      "outputs": [
        {
          "data": {
            "text/html": [
              "<div>\n",
              "<style scoped>\n",
              "    .dataframe tbody tr th:only-of-type {\n",
              "        vertical-align: middle;\n",
              "    }\n",
              "\n",
              "    .dataframe tbody tr th {\n",
              "        vertical-align: top;\n",
              "    }\n",
              "\n",
              "    .dataframe thead th {\n",
              "        text-align: right;\n",
              "    }\n",
              "</style>\n",
              "<table border=\"1\" class=\"dataframe\">\n",
              "  <thead>\n",
              "    <tr style=\"text-align: right;\">\n",
              "      <th></th>\n",
              "      <th>Name</th>\n",
              "      <th>Nationality</th>\n",
              "      <th>National_Position</th>\n",
              "      <th>Club_Position</th>\n",
              "      <th>Height</th>\n",
              "      <th>Weight</th>\n",
              "      <th>Preffered_Foot</th>\n",
              "      <th>Age</th>\n",
              "      <th>Work_Rate</th>\n",
              "      <th>Weak_foot</th>\n",
              "      <th>...</th>\n",
              "      <th>Jumping</th>\n",
              "      <th>Heading</th>\n",
              "      <th>Shot_Power</th>\n",
              "      <th>Finishing</th>\n",
              "      <th>Long_Shots</th>\n",
              "      <th>Curve</th>\n",
              "      <th>Freekick_Accuracy</th>\n",
              "      <th>Penalties</th>\n",
              "      <th>Volleys</th>\n",
              "      <th>label</th>\n",
              "    </tr>\n",
              "  </thead>\n",
              "  <tbody>\n",
              "    <tr>\n",
              "      <th>0</th>\n",
              "      <td>Cristiano Ronaldo</td>\n",
              "      <td>Portugal</td>\n",
              "      <td>LS</td>\n",
              "      <td>LW</td>\n",
              "      <td>185</td>\n",
              "      <td>80</td>\n",
              "      <td>Right</td>\n",
              "      <td>32</td>\n",
              "      <td>High / Low</td>\n",
              "      <td>4</td>\n",
              "      <td>...</td>\n",
              "      <td>95</td>\n",
              "      <td>85</td>\n",
              "      <td>92</td>\n",
              "      <td>93</td>\n",
              "      <td>90</td>\n",
              "      <td>81</td>\n",
              "      <td>76</td>\n",
              "      <td>85</td>\n",
              "      <td>88</td>\n",
              "      <td>Seleccionado</td>\n",
              "    </tr>\n",
              "    <tr>\n",
              "      <th>1</th>\n",
              "      <td>Lionel Messi</td>\n",
              "      <td>Argentina</td>\n",
              "      <td>RW</td>\n",
              "      <td>RW</td>\n",
              "      <td>170</td>\n",
              "      <td>72</td>\n",
              "      <td>Left</td>\n",
              "      <td>29</td>\n",
              "      <td>Medium / Medium</td>\n",
              "      <td>4</td>\n",
              "      <td>...</td>\n",
              "      <td>68</td>\n",
              "      <td>71</td>\n",
              "      <td>85</td>\n",
              "      <td>95</td>\n",
              "      <td>88</td>\n",
              "      <td>89</td>\n",
              "      <td>90</td>\n",
              "      <td>74</td>\n",
              "      <td>85</td>\n",
              "      <td>Seleccionado</td>\n",
              "    </tr>\n",
              "    <tr>\n",
              "      <th>2</th>\n",
              "      <td>Neymar</td>\n",
              "      <td>Brazil</td>\n",
              "      <td>LW</td>\n",
              "      <td>LW</td>\n",
              "      <td>174</td>\n",
              "      <td>68</td>\n",
              "      <td>Right</td>\n",
              "      <td>25</td>\n",
              "      <td>High / Medium</td>\n",
              "      <td>5</td>\n",
              "      <td>...</td>\n",
              "      <td>61</td>\n",
              "      <td>62</td>\n",
              "      <td>78</td>\n",
              "      <td>89</td>\n",
              "      <td>77</td>\n",
              "      <td>79</td>\n",
              "      <td>84</td>\n",
              "      <td>81</td>\n",
              "      <td>83</td>\n",
              "      <td>Seleccionado</td>\n",
              "    </tr>\n",
              "    <tr>\n",
              "      <th>4</th>\n",
              "      <td>Manuel Neuer</td>\n",
              "      <td>Germany</td>\n",
              "      <td>GK</td>\n",
              "      <td>GK</td>\n",
              "      <td>193</td>\n",
              "      <td>92</td>\n",
              "      <td>Right</td>\n",
              "      <td>31</td>\n",
              "      <td>Medium / Medium</td>\n",
              "      <td>4</td>\n",
              "      <td>...</td>\n",
              "      <td>78</td>\n",
              "      <td>25</td>\n",
              "      <td>25</td>\n",
              "      <td>13</td>\n",
              "      <td>16</td>\n",
              "      <td>14</td>\n",
              "      <td>11</td>\n",
              "      <td>47</td>\n",
              "      <td>11</td>\n",
              "      <td>Seleccionado</td>\n",
              "    </tr>\n",
              "    <tr>\n",
              "      <th>5</th>\n",
              "      <td>De Gea</td>\n",
              "      <td>Spain</td>\n",
              "      <td>GK</td>\n",
              "      <td>GK</td>\n",
              "      <td>193</td>\n",
              "      <td>82</td>\n",
              "      <td>Right</td>\n",
              "      <td>26</td>\n",
              "      <td>Medium / Medium</td>\n",
              "      <td>3</td>\n",
              "      <td>...</td>\n",
              "      <td>67</td>\n",
              "      <td>21</td>\n",
              "      <td>31</td>\n",
              "      <td>13</td>\n",
              "      <td>12</td>\n",
              "      <td>21</td>\n",
              "      <td>19</td>\n",
              "      <td>40</td>\n",
              "      <td>13</td>\n",
              "      <td>Seleccionado</td>\n",
              "    </tr>\n",
              "  </tbody>\n",
              "</table>\n",
              "<p>5 rows × 40 columns</p>\n",
              "</div>"
            ],
            "text/plain": [
              "                Name Nationality National_Position Club_Position  Height  \\\n",
              "0  Cristiano Ronaldo    Portugal                LS            LW     185   \n",
              "1       Lionel Messi   Argentina                RW            RW     170   \n",
              "2             Neymar      Brazil                LW            LW     174   \n",
              "4       Manuel Neuer     Germany                GK            GK     193   \n",
              "5             De Gea       Spain                GK            GK     193   \n",
              "\n",
              "   Weight Preffered_Foot  Age        Work_Rate  Weak_foot  ...  Jumping  \\\n",
              "0      80          Right   32       High / Low          4  ...       95   \n",
              "1      72           Left   29  Medium / Medium          4  ...       68   \n",
              "2      68          Right   25    High / Medium          5  ...       61   \n",
              "4      92          Right   31  Medium / Medium          4  ...       78   \n",
              "5      82          Right   26  Medium / Medium          3  ...       67   \n",
              "\n",
              "   Heading  Shot_Power  Finishing  Long_Shots  Curve  Freekick_Accuracy  \\\n",
              "0       85          92         93          90     81                 76   \n",
              "1       71          85         95          88     89                 90   \n",
              "2       62          78         89          77     79                 84   \n",
              "4       25          25         13          16     14                 11   \n",
              "5       21          31         13          12     21                 19   \n",
              "\n",
              "   Penalties  Volleys         label  \n",
              "0         85       88  Seleccionado  \n",
              "1         74       85  Seleccionado  \n",
              "2         81       83  Seleccionado  \n",
              "4         47       11  Seleccionado  \n",
              "5         40       13  Seleccionado  \n",
              "\n",
              "[5 rows x 40 columns]"
            ]
          },
          "execution_count": 42,
          "metadata": {},
          "output_type": "execute_result"
        }
      ],
      "source": [
        "df_clubes.head()"
      ]
    },
    {
      "cell_type": "code",
      "execution_count": 43,
      "metadata": {},
      "outputs": [
        {
          "name": "stdout",
          "output_type": "stream",
          "text": [
            "<class 'pandas.core.frame.DataFrame'>\n",
            "Index: 3513 entries, 0 to 17442\n",
            "Data columns (total 40 columns):\n",
            " #   Column             Non-Null Count  Dtype \n",
            "---  ------             --------------  ----- \n",
            " 0   Name               3513 non-null   object\n",
            " 1   Nationality        3513 non-null   object\n",
            " 2   National_Position  325 non-null    object\n",
            " 3   Club_Position      3513 non-null   object\n",
            " 4   Height             3513 non-null   int64 \n",
            " 5   Weight             3513 non-null   int64 \n",
            " 6   Preffered_Foot     3513 non-null   object\n",
            " 7   Age                3513 non-null   int64 \n",
            " 8   Work_Rate          3513 non-null   object\n",
            " 9   Weak_foot          3513 non-null   int64 \n",
            " 10  Skill_Moves        3513 non-null   int64 \n",
            " 11  Ball_Control       3513 non-null   int64 \n",
            " 12  Dribbling          3513 non-null   int64 \n",
            " 13  Marking            3513 non-null   int64 \n",
            " 14  Sliding_Tackle     3513 non-null   int64 \n",
            " 15  Standing_Tackle    3513 non-null   int64 \n",
            " 16  Aggression         3513 non-null   int64 \n",
            " 17  Reactions          3513 non-null   int64 \n",
            " 18  Interceptions      3513 non-null   int64 \n",
            " 19  Vision             3513 non-null   int64 \n",
            " 20  Composure          3513 non-null   int64 \n",
            " 21  Crossing           3513 non-null   int64 \n",
            " 22  Short_Pass         3513 non-null   int64 \n",
            " 23  Long_Pass          3513 non-null   int64 \n",
            " 24  Acceleration       3513 non-null   int64 \n",
            " 25  Speed              3513 non-null   int64 \n",
            " 26  Stamina            3513 non-null   int64 \n",
            " 27  Strength           3513 non-null   int64 \n",
            " 28  Balance            3513 non-null   int64 \n",
            " 29  Agility            3513 non-null   int64 \n",
            " 30  Jumping            3513 non-null   int64 \n",
            " 31  Heading            3513 non-null   int64 \n",
            " 32  Shot_Power         3513 non-null   int64 \n",
            " 33  Finishing          3513 non-null   int64 \n",
            " 34  Long_Shots         3513 non-null   int64 \n",
            " 35  Curve              3513 non-null   int64 \n",
            " 36  Freekick_Accuracy  3513 non-null   int64 \n",
            " 37  Penalties          3513 non-null   int64 \n",
            " 38  Volleys            3513 non-null   int64 \n",
            " 39  label              3513 non-null   object\n",
            "dtypes: int64(33), object(7)\n",
            "memory usage: 1.1+ MB\n"
          ]
        }
      ],
      "source": [
        "df_clubes.info()"
      ]
    },
    {
      "cell_type": "code",
      "execution_count": 44,
      "metadata": {},
      "outputs": [],
      "source": [
        "def posiciones(club):\n",
        "    if club in ['STF','CF']: return 'ataque'\n",
        "    elif club in ['RW', 'CAM','LW']: return 'central_ataque'\n",
        "    elif club in ['RM','CM','LM'] :return 'central'\n",
        "    elif club in ['RWB','CDM','LWB'] : return 'central_defensa'\n",
        "    elif club in ['RB','CB','LB'] : return 'defensa'\n",
        "    elif club in ['GK'] : return 'arquero'"
      ]
    },
    {
      "cell_type": "code",
      "execution_count": 45,
      "metadata": {},
      "outputs": [
        {
          "name": "stderr",
          "output_type": "stream",
          "text": [
            "C:\\Users\\Usuario\\AppData\\Local\\Temp\\ipykernel_3076\\3535156775.py:1: SettingWithCopyWarning: \n",
            "A value is trying to be set on a copy of a slice from a DataFrame.\n",
            "Try using .loc[row_indexer,col_indexer] = value instead\n",
            "\n",
            "See the caveats in the documentation: https://pandas.pydata.org/pandas-docs/stable/user_guide/indexing.html#returning-a-view-versus-a-copy\n",
            "  df_clubes['Club_Position'] = df_clubes['Club_Position'].apply(posiciones)\n"
          ]
        }
      ],
      "source": [
        "df_clubes['Club_Position'] = df_clubes['Club_Position'].apply(posiciones)"
      ]
    },
    {
      "cell_type": "code",
      "execution_count": 47,
      "metadata": {},
      "outputs": [
        {
          "data": {
            "text/html": [
              "<div>\n",
              "<style scoped>\n",
              "    .dataframe tbody tr th:only-of-type {\n",
              "        vertical-align: middle;\n",
              "    }\n",
              "\n",
              "    .dataframe tbody tr th {\n",
              "        vertical-align: top;\n",
              "    }\n",
              "\n",
              "    .dataframe thead th {\n",
              "        text-align: right;\n",
              "    }\n",
              "</style>\n",
              "<table border=\"1\" class=\"dataframe\">\n",
              "  <thead>\n",
              "    <tr style=\"text-align: right;\">\n",
              "      <th></th>\n",
              "      <th>Name</th>\n",
              "      <th>Nationality</th>\n",
              "      <th>National_Position</th>\n",
              "      <th>Club_Position</th>\n",
              "      <th>Height</th>\n",
              "      <th>Weight</th>\n",
              "      <th>Preffered_Foot</th>\n",
              "      <th>Age</th>\n",
              "      <th>Work_Rate</th>\n",
              "      <th>Weak_foot</th>\n",
              "      <th>...</th>\n",
              "      <th>Jumping</th>\n",
              "      <th>Heading</th>\n",
              "      <th>Shot_Power</th>\n",
              "      <th>Finishing</th>\n",
              "      <th>Long_Shots</th>\n",
              "      <th>Curve</th>\n",
              "      <th>Freekick_Accuracy</th>\n",
              "      <th>Penalties</th>\n",
              "      <th>Volleys</th>\n",
              "      <th>label</th>\n",
              "    </tr>\n",
              "  </thead>\n",
              "  <tbody>\n",
              "    <tr>\n",
              "      <th>0</th>\n",
              "      <td>Cristiano Ronaldo</td>\n",
              "      <td>Portugal</td>\n",
              "      <td>LS</td>\n",
              "      <td>central_ataque</td>\n",
              "      <td>185</td>\n",
              "      <td>80</td>\n",
              "      <td>Right</td>\n",
              "      <td>32</td>\n",
              "      <td>High / Low</td>\n",
              "      <td>4</td>\n",
              "      <td>...</td>\n",
              "      <td>95</td>\n",
              "      <td>85</td>\n",
              "      <td>92</td>\n",
              "      <td>93</td>\n",
              "      <td>90</td>\n",
              "      <td>81</td>\n",
              "      <td>76</td>\n",
              "      <td>85</td>\n",
              "      <td>88</td>\n",
              "      <td>Seleccionado</td>\n",
              "    </tr>\n",
              "    <tr>\n",
              "      <th>1</th>\n",
              "      <td>Lionel Messi</td>\n",
              "      <td>Argentina</td>\n",
              "      <td>RW</td>\n",
              "      <td>central_ataque</td>\n",
              "      <td>170</td>\n",
              "      <td>72</td>\n",
              "      <td>Left</td>\n",
              "      <td>29</td>\n",
              "      <td>Medium / Medium</td>\n",
              "      <td>4</td>\n",
              "      <td>...</td>\n",
              "      <td>68</td>\n",
              "      <td>71</td>\n",
              "      <td>85</td>\n",
              "      <td>95</td>\n",
              "      <td>88</td>\n",
              "      <td>89</td>\n",
              "      <td>90</td>\n",
              "      <td>74</td>\n",
              "      <td>85</td>\n",
              "      <td>Seleccionado</td>\n",
              "    </tr>\n",
              "    <tr>\n",
              "      <th>2</th>\n",
              "      <td>Neymar</td>\n",
              "      <td>Brazil</td>\n",
              "      <td>LW</td>\n",
              "      <td>central_ataque</td>\n",
              "      <td>174</td>\n",
              "      <td>68</td>\n",
              "      <td>Right</td>\n",
              "      <td>25</td>\n",
              "      <td>High / Medium</td>\n",
              "      <td>5</td>\n",
              "      <td>...</td>\n",
              "      <td>61</td>\n",
              "      <td>62</td>\n",
              "      <td>78</td>\n",
              "      <td>89</td>\n",
              "      <td>77</td>\n",
              "      <td>79</td>\n",
              "      <td>84</td>\n",
              "      <td>81</td>\n",
              "      <td>83</td>\n",
              "      <td>Seleccionado</td>\n",
              "    </tr>\n",
              "    <tr>\n",
              "      <th>4</th>\n",
              "      <td>Manuel Neuer</td>\n",
              "      <td>Germany</td>\n",
              "      <td>GK</td>\n",
              "      <td>arquero</td>\n",
              "      <td>193</td>\n",
              "      <td>92</td>\n",
              "      <td>Right</td>\n",
              "      <td>31</td>\n",
              "      <td>Medium / Medium</td>\n",
              "      <td>4</td>\n",
              "      <td>...</td>\n",
              "      <td>78</td>\n",
              "      <td>25</td>\n",
              "      <td>25</td>\n",
              "      <td>13</td>\n",
              "      <td>16</td>\n",
              "      <td>14</td>\n",
              "      <td>11</td>\n",
              "      <td>47</td>\n",
              "      <td>11</td>\n",
              "      <td>Seleccionado</td>\n",
              "    </tr>\n",
              "    <tr>\n",
              "      <th>5</th>\n",
              "      <td>De Gea</td>\n",
              "      <td>Spain</td>\n",
              "      <td>GK</td>\n",
              "      <td>arquero</td>\n",
              "      <td>193</td>\n",
              "      <td>82</td>\n",
              "      <td>Right</td>\n",
              "      <td>26</td>\n",
              "      <td>Medium / Medium</td>\n",
              "      <td>3</td>\n",
              "      <td>...</td>\n",
              "      <td>67</td>\n",
              "      <td>21</td>\n",
              "      <td>31</td>\n",
              "      <td>13</td>\n",
              "      <td>12</td>\n",
              "      <td>21</td>\n",
              "      <td>19</td>\n",
              "      <td>40</td>\n",
              "      <td>13</td>\n",
              "      <td>Seleccionado</td>\n",
              "    </tr>\n",
              "  </tbody>\n",
              "</table>\n",
              "<p>5 rows × 40 columns</p>\n",
              "</div>"
            ],
            "text/plain": [
              "                Name Nationality National_Position   Club_Position  Height  \\\n",
              "0  Cristiano Ronaldo    Portugal                LS  central_ataque     185   \n",
              "1       Lionel Messi   Argentina                RW  central_ataque     170   \n",
              "2             Neymar      Brazil                LW  central_ataque     174   \n",
              "4       Manuel Neuer     Germany                GK         arquero     193   \n",
              "5             De Gea       Spain                GK         arquero     193   \n",
              "\n",
              "   Weight Preffered_Foot  Age        Work_Rate  Weak_foot  ...  Jumping  \\\n",
              "0      80          Right   32       High / Low          4  ...       95   \n",
              "1      72           Left   29  Medium / Medium          4  ...       68   \n",
              "2      68          Right   25    High / Medium          5  ...       61   \n",
              "4      92          Right   31  Medium / Medium          4  ...       78   \n",
              "5      82          Right   26  Medium / Medium          3  ...       67   \n",
              "\n",
              "   Heading  Shot_Power  Finishing  Long_Shots  Curve  Freekick_Accuracy  \\\n",
              "0       85          92         93          90     81                 76   \n",
              "1       71          85         95          88     89                 90   \n",
              "2       62          78         89          77     79                 84   \n",
              "4       25          25         13          16     14                 11   \n",
              "5       21          31         13          12     21                 19   \n",
              "\n",
              "   Penalties  Volleys         label  \n",
              "0         85       88  Seleccionado  \n",
              "1         74       85  Seleccionado  \n",
              "2         81       83  Seleccionado  \n",
              "4         47       11  Seleccionado  \n",
              "5         40       13  Seleccionado  \n",
              "\n",
              "[5 rows x 40 columns]"
            ]
          },
          "execution_count": 47,
          "metadata": {},
          "output_type": "execute_result"
        }
      ],
      "source": [
        "df_clubes.head()"
      ]
    },
    {
      "cell_type": "code",
      "execution_count": 48,
      "metadata": {},
      "outputs": [
        {
          "data": {
            "text/plain": [
              "Club_Position\n",
              "defensa            1180\n",
              "central             907\n",
              "arquero             632\n",
              "central_ataque      581\n",
              "central_defensa     209\n",
              "ataque                4\n",
              "Name: count, dtype: int64"
            ]
          },
          "execution_count": 48,
          "metadata": {},
          "output_type": "execute_result"
        }
      ],
      "source": [
        "# Punto 2\n",
        "df_clubes['Club_Position'].value_counts()"
      ]
    },
    {
      "cell_type": "code",
      "execution_count": 58,
      "metadata": {},
      "outputs": [],
      "source": [
        "# Punto 3\n",
        "\n",
        "#columnas para one hot encoder\n",
        "nbatch_1 = ['Nationality','Preffered_Foot', 'Work_Rate','label']\n",
        "#columnas para standard scaler\n",
        "nbatch_2 = ['Height', 'Weight', 'Age', 'Ball_Control',\n",
        "       'Dribbling', 'Marking', 'Sliding_Tackle', 'Standing_Tackle',\n",
        "       'Aggression', 'Reactions', 'Interceptions', 'Vision', 'Composure',\n",
        "       'Crossing', 'Short_Pass', 'Long_Pass', 'Acceleration', 'Speed',\n",
        "       'Stamina', 'Strength', 'Balance', 'Agility', 'Jumping', 'Heading',\n",
        "       'Shot_Power', 'Finishing', 'Long_Shots', 'Curve', 'Freekick_Accuracy',\n",
        "       'Penalties', 'Volleys']\n",
        "#columnas ya codificadas\n",
        "nbatch_3 = ['Skill_Moves','Weak_foot']"
      ]
    },
    {
      "cell_type": "markdown",
      "metadata": {},
      "source": [
        "Notemos que para el batch de variables categóricas quitamos obviamente `Club_Position`, dado que este será el nuevo target del clasificador. Tampoco está presente `National_Position`, dado que vamos a utilizar `label`, que es una mejor aproximación. Como no se dice si se puede usar o no, nosotras decidimos usar esta columna. Tampoco está presente `Name` por las razones expuestas anteriormente. De aquí en adelante realizamos los mismos pasos de la sección anterior!"
      ]
    },
    {
      "cell_type": "code",
      "execution_count": 75,
      "metadata": {},
      "outputs": [],
      "source": [
        "ncol_transformer= ColumnTransformer(\n",
        "    transformers=[\n",
        "        ('OneHotEncoder', OneHotEncoder(handle_unknown='ignore'), nbatch_1),\n",
        "        ('StandardScaler', StandardScaler(), nbatch_2)],\n",
        "        remainder='passthrough')"
      ]
    },
    {
      "cell_type": "code",
      "execution_count": 77,
      "metadata": {},
      "outputs": [],
      "source": [
        "ndata = df_clubes.drop(columns=['Club_Position','Name','National_Position'])\n",
        "ntarget = df_clubes['Club_Position']\n",
        "\n",
        "X_train2, X_test2, y_train2, y_test2 = train_test_split(ndata, ntarget, test_size=0.2, random_state=42, stratify=ntarget) #aplicamos stratify para mantener la proporción de las clases!!"
      ]
    },
    {
      "cell_type": "code",
      "execution_count": 78,
      "metadata": {},
      "outputs": [],
      "source": [
        "# Codificación de las variables de Club_Position\n",
        "label2= LabelEncoder()\n",
        "y_train2 = label2.fit_transform(y_train2)\n",
        "y_test2 = label2.transform(y_test2)"
      ]
    },
    {
      "cell_type": "code",
      "execution_count": 81,
      "metadata": {},
      "outputs": [],
      "source": [
        "from sklearn.svm import SVC"
      ]
    },
    {
      "cell_type": "markdown",
      "metadata": {},
      "source": [
        "El clasificador elegido finalmente corresponde a `Support Vector Machine`, específicamente utilizando la variante para clasificación multi-clase conocida como Linear SVC (Support Vector Classification Lineal), como se sugiere en la guía proporcionada por scikit-learn . (start - >50 samples - predecting a category - do you have labeled data - <100k samples - Linear SVC). Esta elección se basó en la naturaleza de nuestro problema, que implica la clasificación de múltiples categorías, en este caso, posiciones de jugadores. Una de las ventajas de utilizar SVM es su capacidad para manejar eficientemente problemas de clasificación multi-clase."
      ]
    },
    {
      "cell_type": "code",
      "execution_count": 97,
      "metadata": {},
      "outputs": [],
      "source": [
        "pipeline_SVC = Pipeline(steps=[('preprocessor', ncol_transformer),\n",
        "                        ('classifier', SVC(kernel='linear'))])"
      ]
    },
    {
      "cell_type": "code",
      "execution_count": 98,
      "metadata": {},
      "outputs": [],
      "source": [
        "SVC_trained = pipeline_SVC.fit(X_train2, y_train2)"
      ]
    },
    {
      "cell_type": "code",
      "execution_count": 99,
      "metadata": {},
      "outputs": [
        {
          "name": "stdout",
          "output_type": "stream",
          "text": [
            "Support Vector Machine Score for Position Classification regarding Club_Position\n",
            "              precision    recall  f1-score   support\n",
            "\n",
            "           0       1.00      1.00      1.00       126\n",
            "           1       0.00      0.00      0.00         1\n",
            "           2       0.57      0.60      0.59       182\n",
            "           3       0.49      0.46      0.47       116\n",
            "           4       0.47      0.17      0.25        42\n",
            "           5       0.85      0.94      0.89       236\n",
            "\n",
            "    accuracy                           0.74       703\n",
            "   macro avg       0.56      0.53      0.53       703\n",
            "weighted avg       0.72      0.74      0.72       703\n",
            "\n"
          ]
        },
        {
          "name": "stderr",
          "output_type": "stream",
          "text": [
            "c:\\Users\\Usuario\\miniconda3\\envs\\jaleaenv\\lib\\site-packages\\sklearn\\metrics\\_classification.py:1509: UndefinedMetricWarning: Precision is ill-defined and being set to 0.0 in labels with no predicted samples. Use `zero_division` parameter to control this behavior.\n",
            "  _warn_prf(average, modifier, f\"{metric.capitalize()} is\", len(result))\n",
            "c:\\Users\\Usuario\\miniconda3\\envs\\jaleaenv\\lib\\site-packages\\sklearn\\metrics\\_classification.py:1509: UndefinedMetricWarning: Precision is ill-defined and being set to 0.0 in labels with no predicted samples. Use `zero_division` parameter to control this behavior.\n",
            "  _warn_prf(average, modifier, f\"{metric.capitalize()} is\", len(result))\n",
            "c:\\Users\\Usuario\\miniconda3\\envs\\jaleaenv\\lib\\site-packages\\sklearn\\metrics\\_classification.py:1509: UndefinedMetricWarning: Precision is ill-defined and being set to 0.0 in labels with no predicted samples. Use `zero_division` parameter to control this behavior.\n",
            "  _warn_prf(average, modifier, f\"{metric.capitalize()} is\", len(result))\n"
          ]
        }
      ],
      "source": [
        "print('Support Vector Machine Score for Position Classification regarding Club_Position')\n",
        "print(classification_report(y_test2, SVC_trained.predict(X_test2)))"
      ]
    },
    {
      "cell_type": "markdown",
      "metadata": {},
      "source": [
        "Punto 4 : "
      ]
    },
    {
      "cell_type": "markdown",
      "metadata": {
        "id": "9bL2m8nNojXM"
      },
      "source": [
        "## 3. Predicciones de Seleccionados Nacionales para el Jere Klein [30 puntos]"
      ]
    },
    {
      "cell_type": "markdown",
      "metadata": {
        "id": "_2XmRsJdsEh_"
      },
      "source": [
        "<center>\n",
        "<img src='https://www.radioactiva.cl/wp-content/uploads/2024/04/Jere-Klein-1-768x432.webp' width=500 />"
      ]
    },
    {
      "cell_type": "markdown",
      "metadata": {
        "id": "AgmUoVDsqUPu"
      },
      "source": [
        "Después de alcanzar la fama como cantante urbano, Jere Klein decide explorar una nueva faceta. Con su amor por el fútbol y convencido de que los artistas urbanos poseen un talento y versatilidad excepcionales, Jere se embarca en un proyecto innovador: desarrollar un sistema de inteligencia artificial capaz de identificar a jugadores que tienen potencial para convertirse en futbolistas profesionales. Su teoría es que muchos artistas del género urbano chileno, con sus habilidades únicas y su disciplina, podrían destacarse también en el deporte. Con este sistema, Jere espera no solo abrir nuevas oportunidades para sus colegas artistas, sino también demostrar la amplia gama de talentos que pueden ofrecer."
      ]
    },
    {
      "cell_type": "markdown",
      "metadata": {
        "id": "rD8pQ5Zfq8dE"
      },
      "source": [
        "### 3.1 ¿Qué modelo de árbol es más de \"pana\"? [10 puntos]"
      ]
    },
    {
      "cell_type": "markdown",
      "metadata": {
        "id": "zB-KUA4g99eo"
      },
      "source": [
        "<center>\n",
        "<img src='https://64.media.tumblr.com/39189215a7d3d96823cb359f35b44e05/tumblr_psmrhrR3Xw1qf5hjqo4_540.gif' width=300 />"
      ]
    },
    {
      "cell_type": "markdown",
      "metadata": {
        "id": "uL-moVhB9vPH"
      },
      "source": [
        "\n",
        "**Tareas**\n",
        "\n",
        "\n",
        "1. Considerando el la variable llamada `label` creada en la sección 1.1. Para determinar cuál modelo de árbol sería más adecuado para la tarea en cuestión, utilice PyCaret. Este deberá centrarse exclusivamente en modelos de tipo árbol. Jere ha especificado que busca un modelo que tome decisiones rápidamente y que tenga una baja tasa de falsos positivos, ya que planea invertir en estos jugadores. [3 puntos] \n",
        "\n",
        "\n",
        "Para la comparación, utilice los siguientes modelos:\n",
        "\n",
        "```python\n",
        "['et', 'rf', 'dt', 'xgboost', 'lightgbm', 'catboost']\n",
        "```\n",
        "\n",
        "2. Explique en brevemente que son los modelos de la siguiente lista `['et', 'rf', 'dt']` y como funcionan. [3 punto]\n",
        "\n",
        "3. Tras realizar la comparación de modelos, seleccione aquel que muestre el mejor rendimiento en términos de velocidad y precisión, especialmente en la reducción de falsos positivos. Utilice la función `evaluate_model` de PyCaret para revisar y analizar los resultados obtenidos en los siguientes aspectos:\n",
        "\n",
        "  - **Confusión Matrix**: ¿Cómo se encuentran la tasa de verdaderos positivos y verdaderos negativos?\n",
        "  - **Threshold**: ¿Es acaso el umbral por defecto del modelo el mejor para las predicciones?\n",
        "  - **Feature Importance**: ¿Cuáles son las variables con mejor desempeño? ¿A qué podría deberse esto?\n",
        "  - **Learning Curve**: ¿El modelo presenta algún problema?\n",
        "\n",
        "  [4 puntos]"
      ]
    },
    {
      "cell_type": "markdown",
      "metadata": {
        "id": "qY85nrViYROF"
      },
      "source": [
        "**Respuesta**"
      ]
    },
    {
      "cell_type": "code",
      "execution_count": 41,
      "metadata": {},
      "outputs": [],
      "source": [
        "from pycaret.classification import compare_models, create_model\n",
        "from pycaret.regression import *\n",
        "from pycaret.classification import *"
      ]
    },
    {
      "cell_type": "code",
      "execution_count": 33,
      "metadata": {},
      "outputs": [],
      "source": [
        "ewe = LabelEncoder()\n",
        "target = ewe.fit_transform(target)"
      ]
    },
    {
      "cell_type": "code",
      "execution_count": 43,
      "metadata": {
        "id": "kUCjOjsEYUXL"
      },
      "outputs": [
        {
          "data": {
            "text/html": [
              "<style type=\"text/css\">\n",
              "#T_dd1ac_row10_col1 {\n",
              "  background-color: lightgreen;\n",
              "}\n",
              "</style>\n",
              "<table id=\"T_dd1ac\">\n",
              "  <thead>\n",
              "    <tr>\n",
              "      <th class=\"blank level0\" >&nbsp;</th>\n",
              "      <th id=\"T_dd1ac_level0_col0\" class=\"col_heading level0 col0\" >Description</th>\n",
              "      <th id=\"T_dd1ac_level0_col1\" class=\"col_heading level0 col1\" >Value</th>\n",
              "    </tr>\n",
              "  </thead>\n",
              "  <tbody>\n",
              "    <tr>\n",
              "      <th id=\"T_dd1ac_level0_row0\" class=\"row_heading level0 row0\" >0</th>\n",
              "      <td id=\"T_dd1ac_row0_col0\" class=\"data row0 col0\" >Session id</td>\n",
              "      <td id=\"T_dd1ac_row0_col1\" class=\"data row0 col1\" >2522</td>\n",
              "    </tr>\n",
              "    <tr>\n",
              "      <th id=\"T_dd1ac_level0_row1\" class=\"row_heading level0 row1\" >1</th>\n",
              "      <td id=\"T_dd1ac_row1_col0\" class=\"data row1 col0\" >Target</td>\n",
              "      <td id=\"T_dd1ac_row1_col1\" class=\"data row1 col1\" >target</td>\n",
              "    </tr>\n",
              "    <tr>\n",
              "      <th id=\"T_dd1ac_level0_row2\" class=\"row_heading level0 row2\" >2</th>\n",
              "      <td id=\"T_dd1ac_row2_col0\" class=\"data row2 col0\" >Target type</td>\n",
              "      <td id=\"T_dd1ac_row2_col1\" class=\"data row2 col1\" >Binary</td>\n",
              "    </tr>\n",
              "    <tr>\n",
              "      <th id=\"T_dd1ac_level0_row3\" class=\"row_heading level0 row3\" >3</th>\n",
              "      <td id=\"T_dd1ac_row3_col0\" class=\"data row3 col0\" >Original data shape</td>\n",
              "      <td id=\"T_dd1ac_row3_col1\" class=\"data row3 col1\" >(17588, 38)</td>\n",
              "    </tr>\n",
              "    <tr>\n",
              "      <th id=\"T_dd1ac_level0_row4\" class=\"row_heading level0 row4\" >4</th>\n",
              "      <td id=\"T_dd1ac_row4_col0\" class=\"data row4 col0\" >Transformed data shape</td>\n",
              "      <td id=\"T_dd1ac_row4_col1\" class=\"data row4 col1\" >(17588, 46)</td>\n",
              "    </tr>\n",
              "    <tr>\n",
              "      <th id=\"T_dd1ac_level0_row5\" class=\"row_heading level0 row5\" >5</th>\n",
              "      <td id=\"T_dd1ac_row5_col0\" class=\"data row5 col0\" >Transformed train set shape</td>\n",
              "      <td id=\"T_dd1ac_row5_col1\" class=\"data row5 col1\" >(12311, 46)</td>\n",
              "    </tr>\n",
              "    <tr>\n",
              "      <th id=\"T_dd1ac_level0_row6\" class=\"row_heading level0 row6\" >6</th>\n",
              "      <td id=\"T_dd1ac_row6_col0\" class=\"data row6 col0\" >Transformed test set shape</td>\n",
              "      <td id=\"T_dd1ac_row6_col1\" class=\"data row6 col1\" >(5277, 46)</td>\n",
              "    </tr>\n",
              "    <tr>\n",
              "      <th id=\"T_dd1ac_level0_row7\" class=\"row_heading level0 row7\" >7</th>\n",
              "      <td id=\"T_dd1ac_row7_col0\" class=\"data row7 col0\" >Numeric features</td>\n",
              "      <td id=\"T_dd1ac_row7_col1\" class=\"data row7 col1\" >33</td>\n",
              "    </tr>\n",
              "    <tr>\n",
              "      <th id=\"T_dd1ac_level0_row8\" class=\"row_heading level0 row8\" >8</th>\n",
              "      <td id=\"T_dd1ac_row8_col0\" class=\"data row8 col0\" >Categorical features</td>\n",
              "      <td id=\"T_dd1ac_row8_col1\" class=\"data row8 col1\" >4</td>\n",
              "    </tr>\n",
              "    <tr>\n",
              "      <th id=\"T_dd1ac_level0_row9\" class=\"row_heading level0 row9\" >9</th>\n",
              "      <td id=\"T_dd1ac_row9_col0\" class=\"data row9 col0\" >Rows with missing values</td>\n",
              "      <td id=\"T_dd1ac_row9_col1\" class=\"data row9 col1\" >0.0%</td>\n",
              "    </tr>\n",
              "    <tr>\n",
              "      <th id=\"T_dd1ac_level0_row10\" class=\"row_heading level0 row10\" >10</th>\n",
              "      <td id=\"T_dd1ac_row10_col0\" class=\"data row10 col0\" >Preprocess</td>\n",
              "      <td id=\"T_dd1ac_row10_col1\" class=\"data row10 col1\" >True</td>\n",
              "    </tr>\n",
              "    <tr>\n",
              "      <th id=\"T_dd1ac_level0_row11\" class=\"row_heading level0 row11\" >11</th>\n",
              "      <td id=\"T_dd1ac_row11_col0\" class=\"data row11 col0\" >Imputation type</td>\n",
              "      <td id=\"T_dd1ac_row11_col1\" class=\"data row11 col1\" >simple</td>\n",
              "    </tr>\n",
              "    <tr>\n",
              "      <th id=\"T_dd1ac_level0_row12\" class=\"row_heading level0 row12\" >12</th>\n",
              "      <td id=\"T_dd1ac_row12_col0\" class=\"data row12 col0\" >Numeric imputation</td>\n",
              "      <td id=\"T_dd1ac_row12_col1\" class=\"data row12 col1\" >mean</td>\n",
              "    </tr>\n",
              "    <tr>\n",
              "      <th id=\"T_dd1ac_level0_row13\" class=\"row_heading level0 row13\" >13</th>\n",
              "      <td id=\"T_dd1ac_row13_col0\" class=\"data row13 col0\" >Categorical imputation</td>\n",
              "      <td id=\"T_dd1ac_row13_col1\" class=\"data row13 col1\" >mode</td>\n",
              "    </tr>\n",
              "    <tr>\n",
              "      <th id=\"T_dd1ac_level0_row14\" class=\"row_heading level0 row14\" >14</th>\n",
              "      <td id=\"T_dd1ac_row14_col0\" class=\"data row14 col0\" >Maximum one-hot encoding</td>\n",
              "      <td id=\"T_dd1ac_row14_col1\" class=\"data row14 col1\" >25</td>\n",
              "    </tr>\n",
              "    <tr>\n",
              "      <th id=\"T_dd1ac_level0_row15\" class=\"row_heading level0 row15\" >15</th>\n",
              "      <td id=\"T_dd1ac_row15_col0\" class=\"data row15 col0\" >Encoding method</td>\n",
              "      <td id=\"T_dd1ac_row15_col1\" class=\"data row15 col1\" >None</td>\n",
              "    </tr>\n",
              "    <tr>\n",
              "      <th id=\"T_dd1ac_level0_row16\" class=\"row_heading level0 row16\" >16</th>\n",
              "      <td id=\"T_dd1ac_row16_col0\" class=\"data row16 col0\" >Fold Generator</td>\n",
              "      <td id=\"T_dd1ac_row16_col1\" class=\"data row16 col1\" >StratifiedKFold</td>\n",
              "    </tr>\n",
              "    <tr>\n",
              "      <th id=\"T_dd1ac_level0_row17\" class=\"row_heading level0 row17\" >17</th>\n",
              "      <td id=\"T_dd1ac_row17_col0\" class=\"data row17 col0\" >Fold Number</td>\n",
              "      <td id=\"T_dd1ac_row17_col1\" class=\"data row17 col1\" >10</td>\n",
              "    </tr>\n",
              "    <tr>\n",
              "      <th id=\"T_dd1ac_level0_row18\" class=\"row_heading level0 row18\" >18</th>\n",
              "      <td id=\"T_dd1ac_row18_col0\" class=\"data row18 col0\" >CPU Jobs</td>\n",
              "      <td id=\"T_dd1ac_row18_col1\" class=\"data row18 col1\" >-1</td>\n",
              "    </tr>\n",
              "    <tr>\n",
              "      <th id=\"T_dd1ac_level0_row19\" class=\"row_heading level0 row19\" >19</th>\n",
              "      <td id=\"T_dd1ac_row19_col0\" class=\"data row19 col0\" >Use GPU</td>\n",
              "      <td id=\"T_dd1ac_row19_col1\" class=\"data row19 col1\" >False</td>\n",
              "    </tr>\n",
              "    <tr>\n",
              "      <th id=\"T_dd1ac_level0_row20\" class=\"row_heading level0 row20\" >20</th>\n",
              "      <td id=\"T_dd1ac_row20_col0\" class=\"data row20 col0\" >Log Experiment</td>\n",
              "      <td id=\"T_dd1ac_row20_col1\" class=\"data row20 col1\" >False</td>\n",
              "    </tr>\n",
              "    <tr>\n",
              "      <th id=\"T_dd1ac_level0_row21\" class=\"row_heading level0 row21\" >21</th>\n",
              "      <td id=\"T_dd1ac_row21_col0\" class=\"data row21 col0\" >Experiment Name</td>\n",
              "      <td id=\"T_dd1ac_row21_col1\" class=\"data row21 col1\" >clf-default-name</td>\n",
              "    </tr>\n",
              "    <tr>\n",
              "      <th id=\"T_dd1ac_level0_row22\" class=\"row_heading level0 row22\" >22</th>\n",
              "      <td id=\"T_dd1ac_row22_col0\" class=\"data row22 col0\" >USI</td>\n",
              "      <td id=\"T_dd1ac_row22_col1\" class=\"data row22 col1\" >33ce</td>\n",
              "    </tr>\n",
              "  </tbody>\n",
              "</table>\n"
            ],
            "text/plain": [
              "<pandas.io.formats.style.Styler at 0x1bdd1ab0d90>"
            ]
          },
          "metadata": {},
          "output_type": "display_data"
        },
        {
          "data": {
            "text/html": [],
            "text/plain": [
              "<IPython.core.display.HTML object>"
            ]
          },
          "metadata": {},
          "output_type": "display_data"
        },
        {
          "data": {
            "text/html": [
              "<style type=\"text/css\">\n",
              "#T_10c84 th {\n",
              "  text-align: left;\n",
              "}\n",
              "#T_10c84_row0_col0, #T_10c84_row0_col3, #T_10c84_row0_col4, #T_10c84_row1_col0, #T_10c84_row1_col1, #T_10c84_row1_col2, #T_10c84_row1_col3, #T_10c84_row1_col4, #T_10c84_row1_col5, #T_10c84_row1_col6, #T_10c84_row1_col7, #T_10c84_row2_col0, #T_10c84_row2_col1, #T_10c84_row2_col2, #T_10c84_row2_col3, #T_10c84_row2_col4, #T_10c84_row2_col5, #T_10c84_row2_col6, #T_10c84_row2_col7, #T_10c84_row3_col0, #T_10c84_row3_col1, #T_10c84_row3_col2, #T_10c84_row3_col3, #T_10c84_row3_col5, #T_10c84_row3_col6, #T_10c84_row3_col7, #T_10c84_row4_col0, #T_10c84_row4_col1, #T_10c84_row4_col2, #T_10c84_row4_col3, #T_10c84_row4_col4, #T_10c84_row4_col5, #T_10c84_row4_col6, #T_10c84_row4_col7, #T_10c84_row5_col0, #T_10c84_row5_col1, #T_10c84_row5_col2, #T_10c84_row5_col4, #T_10c84_row5_col5, #T_10c84_row5_col6, #T_10c84_row5_col7 {\n",
              "  text-align: left;\n",
              "}\n",
              "#T_10c84_row0_col1, #T_10c84_row0_col2, #T_10c84_row0_col5, #T_10c84_row0_col6, #T_10c84_row0_col7, #T_10c84_row3_col4, #T_10c84_row5_col3 {\n",
              "  text-align: left;\n",
              "  background-color: yellow;\n",
              "}\n",
              "#T_10c84_row0_col8, #T_10c84_row1_col8, #T_10c84_row2_col8, #T_10c84_row3_col8, #T_10c84_row4_col8 {\n",
              "  text-align: left;\n",
              "  background-color: lightgrey;\n",
              "}\n",
              "#T_10c84_row5_col8 {\n",
              "  text-align: left;\n",
              "  background-color: yellow;\n",
              "  background-color: lightgrey;\n",
              "}\n",
              "</style>\n",
              "<table id=\"T_10c84\">\n",
              "  <thead>\n",
              "    <tr>\n",
              "      <th class=\"blank level0\" >&nbsp;</th>\n",
              "      <th id=\"T_10c84_level0_col0\" class=\"col_heading level0 col0\" >Model</th>\n",
              "      <th id=\"T_10c84_level0_col1\" class=\"col_heading level0 col1\" >Accuracy</th>\n",
              "      <th id=\"T_10c84_level0_col2\" class=\"col_heading level0 col2\" >AUC</th>\n",
              "      <th id=\"T_10c84_level0_col3\" class=\"col_heading level0 col3\" >Recall</th>\n",
              "      <th id=\"T_10c84_level0_col4\" class=\"col_heading level0 col4\" >Prec.</th>\n",
              "      <th id=\"T_10c84_level0_col5\" class=\"col_heading level0 col5\" >F1</th>\n",
              "      <th id=\"T_10c84_level0_col6\" class=\"col_heading level0 col6\" >Kappa</th>\n",
              "      <th id=\"T_10c84_level0_col7\" class=\"col_heading level0 col7\" >MCC</th>\n",
              "      <th id=\"T_10c84_level0_col8\" class=\"col_heading level0 col8\" >TT (Sec)</th>\n",
              "    </tr>\n",
              "  </thead>\n",
              "  <tbody>\n",
              "    <tr>\n",
              "      <th id=\"T_10c84_level0_row0\" class=\"row_heading level0 row0\" >catboost</th>\n",
              "      <td id=\"T_10c84_row0_col0\" class=\"data row0 col0\" >CatBoost Classifier</td>\n",
              "      <td id=\"T_10c84_row0_col1\" class=\"data row0 col1\" >0.9534</td>\n",
              "      <td id=\"T_10c84_row0_col2\" class=\"data row0 col2\" >0.9611</td>\n",
              "      <td id=\"T_10c84_row0_col3\" class=\"data row0 col3\" >0.4441</td>\n",
              "      <td id=\"T_10c84_row0_col4\" class=\"data row0 col4\" >0.6819</td>\n",
              "      <td id=\"T_10c84_row0_col5\" class=\"data row0 col5\" >0.5369</td>\n",
              "      <td id=\"T_10c84_row0_col6\" class=\"data row0 col6\" >0.5135</td>\n",
              "      <td id=\"T_10c84_row0_col7\" class=\"data row0 col7\" >0.5271</td>\n",
              "      <td id=\"T_10c84_row0_col8\" class=\"data row0 col8\" >4.4480</td>\n",
              "    </tr>\n",
              "    <tr>\n",
              "      <th id=\"T_10c84_level0_row1\" class=\"row_heading level0 row1\" >lightgbm</th>\n",
              "      <td id=\"T_10c84_row1_col0\" class=\"data row1 col0\" >Light Gradient Boosting Machine</td>\n",
              "      <td id=\"T_10c84_row1_col1\" class=\"data row1 col1\" >0.9529</td>\n",
              "      <td id=\"T_10c84_row1_col2\" class=\"data row1 col2\" >0.9608</td>\n",
              "      <td id=\"T_10c84_row1_col3\" class=\"data row1 col3\" >0.4467</td>\n",
              "      <td id=\"T_10c84_row1_col4\" class=\"data row1 col4\" >0.6743</td>\n",
              "      <td id=\"T_10c84_row1_col5\" class=\"data row1 col5\" >0.5368</td>\n",
              "      <td id=\"T_10c84_row1_col6\" class=\"data row1 col6\" >0.5130</td>\n",
              "      <td id=\"T_10c84_row1_col7\" class=\"data row1 col7\" >0.5255</td>\n",
              "      <td id=\"T_10c84_row1_col8\" class=\"data row1 col8\" >0.1540</td>\n",
              "    </tr>\n",
              "    <tr>\n",
              "      <th id=\"T_10c84_level0_row2\" class=\"row_heading level0 row2\" >xgboost</th>\n",
              "      <td id=\"T_10c84_row2_col0\" class=\"data row2 col0\" >Extreme Gradient Boosting</td>\n",
              "      <td id=\"T_10c84_row2_col1\" class=\"data row2 col1\" >0.9505</td>\n",
              "      <td id=\"T_10c84_row2_col2\" class=\"data row2 col2\" >0.9594</td>\n",
              "      <td id=\"T_10c84_row2_col3\" class=\"data row2 col3\" >0.4441</td>\n",
              "      <td id=\"T_10c84_row2_col4\" class=\"data row2 col4\" >0.6389</td>\n",
              "      <td id=\"T_10c84_row2_col5\" class=\"data row2 col5\" >0.5223</td>\n",
              "      <td id=\"T_10c84_row2_col6\" class=\"data row2 col6\" >0.4972</td>\n",
              "      <td id=\"T_10c84_row2_col7\" class=\"data row2 col7\" >0.5072</td>\n",
              "      <td id=\"T_10c84_row2_col8\" class=\"data row2 col8\" >0.1230</td>\n",
              "    </tr>\n",
              "    <tr>\n",
              "      <th id=\"T_10c84_level0_row3\" class=\"row_heading level0 row3\" >rf</th>\n",
              "      <td id=\"T_10c84_row3_col0\" class=\"data row3 col0\" >Random Forest Classifier</td>\n",
              "      <td id=\"T_10c84_row3_col1\" class=\"data row3 col1\" >0.9483</td>\n",
              "      <td id=\"T_10c84_row3_col2\" class=\"data row3 col2\" >0.9462</td>\n",
              "      <td id=\"T_10c84_row3_col3\" class=\"data row3 col3\" >0.2420</td>\n",
              "      <td id=\"T_10c84_row3_col4\" class=\"data row3 col4\" >0.7421</td>\n",
              "      <td id=\"T_10c84_row3_col5\" class=\"data row3 col5\" >0.3628</td>\n",
              "      <td id=\"T_10c84_row3_col6\" class=\"data row3 col6\" >0.3431</td>\n",
              "      <td id=\"T_10c84_row3_col7\" class=\"data row3 col7\" >0.4036</td>\n",
              "      <td id=\"T_10c84_row3_col8\" class=\"data row3 col8\" >0.2800</td>\n",
              "    </tr>\n",
              "    <tr>\n",
              "      <th id=\"T_10c84_level0_row4\" class=\"row_heading level0 row4\" >et</th>\n",
              "      <td id=\"T_10c84_row4_col0\" class=\"data row4 col0\" >Extra Trees Classifier</td>\n",
              "      <td id=\"T_10c84_row4_col1\" class=\"data row4 col1\" >0.9437</td>\n",
              "      <td id=\"T_10c84_row4_col2\" class=\"data row4 col2\" >0.9412</td>\n",
              "      <td id=\"T_10c84_row4_col3\" class=\"data row4 col3\" >0.1397</td>\n",
              "      <td id=\"T_10c84_row4_col4\" class=\"data row4 col4\" >0.7185</td>\n",
              "      <td id=\"T_10c84_row4_col5\" class=\"data row4 col5\" >0.2316</td>\n",
              "      <td id=\"T_10c84_row4_col6\" class=\"data row4 col6\" >0.2158</td>\n",
              "      <td id=\"T_10c84_row4_col7\" class=\"data row4 col7\" >0.2979</td>\n",
              "      <td id=\"T_10c84_row4_col8\" class=\"data row4 col8\" >0.2300</td>\n",
              "    </tr>\n",
              "    <tr>\n",
              "      <th id=\"T_10c84_level0_row5\" class=\"row_heading level0 row5\" >dt</th>\n",
              "      <td id=\"T_10c84_row5_col0\" class=\"data row5 col0\" >Decision Tree Classifier</td>\n",
              "      <td id=\"T_10c84_row5_col1\" class=\"data row5 col1\" >0.9319</td>\n",
              "      <td id=\"T_10c84_row5_col2\" class=\"data row5 col2\" >0.7107</td>\n",
              "      <td id=\"T_10c84_row5_col3\" class=\"data row5 col3\" >0.4587</td>\n",
              "      <td id=\"T_10c84_row5_col4\" class=\"data row5 col4\" >0.4485</td>\n",
              "      <td id=\"T_10c84_row5_col5\" class=\"data row5 col5\" >0.4519</td>\n",
              "      <td id=\"T_10c84_row5_col6\" class=\"data row5 col6\" >0.4158</td>\n",
              "      <td id=\"T_10c84_row5_col7\" class=\"data row5 col7\" >0.4167</td>\n",
              "      <td id=\"T_10c84_row5_col8\" class=\"data row5 col8\" >0.0830</td>\n",
              "    </tr>\n",
              "  </tbody>\n",
              "</table>\n"
            ],
            "text/plain": [
              "<pandas.io.formats.style.Styler at 0x1bdd6fca6b0>"
            ]
          },
          "metadata": {},
          "output_type": "display_data"
        },
        {
          "data": {
            "text/html": [],
            "text/plain": [
              "<IPython.core.display.HTML object>"
            ]
          },
          "metadata": {},
          "output_type": "display_data"
        }
      ],
      "source": [
        "a = setup(data, target=target)\n",
        "\n",
        "tree_models = compare_models(include=['et', 'rf', 'dt', 'xgboost', 'lightgbm', 'catboost'], fold = 10)"
      ]
    },
    {
      "cell_type": "code",
      "execution_count": 44,
      "metadata": {},
      "outputs": [
        {
          "data": {
            "text/html": [],
            "text/plain": [
              "<IPython.core.display.HTML object>"
            ]
          },
          "metadata": {},
          "output_type": "display_data"
        },
        {
          "data": {
            "text/html": [
              "<style type=\"text/css\">\n",
              "#T_add65 th {\n",
              "  text-align: left;\n",
              "}\n",
              "#T_add65_row0_col0, #T_add65_row0_col3, #T_add65_row0_col4, #T_add65_row1_col0, #T_add65_row1_col1, #T_add65_row1_col2, #T_add65_row1_col3, #T_add65_row1_col4, #T_add65_row1_col5, #T_add65_row1_col6, #T_add65_row1_col7, #T_add65_row2_col0, #T_add65_row2_col1, #T_add65_row2_col2, #T_add65_row2_col3, #T_add65_row2_col4, #T_add65_row2_col5, #T_add65_row2_col6, #T_add65_row2_col7, #T_add65_row3_col0, #T_add65_row3_col1, #T_add65_row3_col2, #T_add65_row3_col3, #T_add65_row3_col4, #T_add65_row3_col5, #T_add65_row3_col6, #T_add65_row3_col7, #T_add65_row4_col0, #T_add65_row4_col1, #T_add65_row4_col2, #T_add65_row4_col3, #T_add65_row4_col5, #T_add65_row4_col6, #T_add65_row4_col7, #T_add65_row5_col0, #T_add65_row5_col1, #T_add65_row5_col2, #T_add65_row5_col3, #T_add65_row5_col4, #T_add65_row5_col5, #T_add65_row5_col6, #T_add65_row5_col7, #T_add65_row6_col0, #T_add65_row6_col1, #T_add65_row6_col2, #T_add65_row6_col3, #T_add65_row6_col4, #T_add65_row6_col5, #T_add65_row6_col6, #T_add65_row6_col7, #T_add65_row7_col0, #T_add65_row7_col1, #T_add65_row7_col2, #T_add65_row7_col3, #T_add65_row7_col4, #T_add65_row7_col5, #T_add65_row7_col6, #T_add65_row7_col7, #T_add65_row8_col0, #T_add65_row8_col1, #T_add65_row8_col2, #T_add65_row8_col3, #T_add65_row8_col4, #T_add65_row8_col5, #T_add65_row8_col6, #T_add65_row8_col7, #T_add65_row9_col0, #T_add65_row9_col1, #T_add65_row9_col2, #T_add65_row9_col3, #T_add65_row9_col4, #T_add65_row9_col5, #T_add65_row9_col6, #T_add65_row9_col7, #T_add65_row10_col0, #T_add65_row10_col1, #T_add65_row10_col2, #T_add65_row10_col3, #T_add65_row10_col4, #T_add65_row10_col5, #T_add65_row10_col6, #T_add65_row10_col7, #T_add65_row11_col0, #T_add65_row11_col1, #T_add65_row11_col2, #T_add65_row11_col3, #T_add65_row11_col4, #T_add65_row11_col5, #T_add65_row11_col6, #T_add65_row11_col7, #T_add65_row12_col0, #T_add65_row12_col1, #T_add65_row12_col2, #T_add65_row12_col3, #T_add65_row12_col4, #T_add65_row12_col5, #T_add65_row12_col6, #T_add65_row12_col7, #T_add65_row13_col0, #T_add65_row13_col1, #T_add65_row13_col2, #T_add65_row13_col3, #T_add65_row13_col4, #T_add65_row13_col5, #T_add65_row13_col6, #T_add65_row13_col7, #T_add65_row14_col0, #T_add65_row14_col1, #T_add65_row14_col2, #T_add65_row14_col4, #T_add65_row14_col5, #T_add65_row14_col6, #T_add65_row14_col7, #T_add65_row15_col0, #T_add65_row15_col1, #T_add65_row15_col2, #T_add65_row15_col3, #T_add65_row15_col4, #T_add65_row15_col5, #T_add65_row15_col6, #T_add65_row15_col7 {\n",
              "  text-align: left;\n",
              "}\n",
              "#T_add65_row0_col1, #T_add65_row0_col2, #T_add65_row0_col5, #T_add65_row0_col6, #T_add65_row0_col7, #T_add65_row4_col4, #T_add65_row14_col3 {\n",
              "  text-align: left;\n",
              "  background-color: yellow;\n",
              "}\n",
              "#T_add65_row0_col8, #T_add65_row1_col8, #T_add65_row2_col8, #T_add65_row3_col8, #T_add65_row4_col8, #T_add65_row5_col8, #T_add65_row6_col8, #T_add65_row7_col8, #T_add65_row9_col8, #T_add65_row10_col8, #T_add65_row11_col8, #T_add65_row12_col8, #T_add65_row13_col8, #T_add65_row14_col8, #T_add65_row15_col8 {\n",
              "  text-align: left;\n",
              "  background-color: lightgrey;\n",
              "}\n",
              "#T_add65_row8_col8 {\n",
              "  text-align: left;\n",
              "  background-color: yellow;\n",
              "  background-color: lightgrey;\n",
              "}\n",
              "</style>\n",
              "<table id=\"T_add65\">\n",
              "  <thead>\n",
              "    <tr>\n",
              "      <th class=\"blank level0\" >&nbsp;</th>\n",
              "      <th id=\"T_add65_level0_col0\" class=\"col_heading level0 col0\" >Model</th>\n",
              "      <th id=\"T_add65_level0_col1\" class=\"col_heading level0 col1\" >Accuracy</th>\n",
              "      <th id=\"T_add65_level0_col2\" class=\"col_heading level0 col2\" >AUC</th>\n",
              "      <th id=\"T_add65_level0_col3\" class=\"col_heading level0 col3\" >Recall</th>\n",
              "      <th id=\"T_add65_level0_col4\" class=\"col_heading level0 col4\" >Prec.</th>\n",
              "      <th id=\"T_add65_level0_col5\" class=\"col_heading level0 col5\" >F1</th>\n",
              "      <th id=\"T_add65_level0_col6\" class=\"col_heading level0 col6\" >Kappa</th>\n",
              "      <th id=\"T_add65_level0_col7\" class=\"col_heading level0 col7\" >MCC</th>\n",
              "      <th id=\"T_add65_level0_col8\" class=\"col_heading level0 col8\" >TT (Sec)</th>\n",
              "    </tr>\n",
              "  </thead>\n",
              "  <tbody>\n",
              "    <tr>\n",
              "      <th id=\"T_add65_level0_row0\" class=\"row_heading level0 row0\" >catboost</th>\n",
              "      <td id=\"T_add65_row0_col0\" class=\"data row0 col0\" >CatBoost Classifier</td>\n",
              "      <td id=\"T_add65_row0_col1\" class=\"data row0 col1\" >0.9534</td>\n",
              "      <td id=\"T_add65_row0_col2\" class=\"data row0 col2\" >0.9611</td>\n",
              "      <td id=\"T_add65_row0_col3\" class=\"data row0 col3\" >0.4441</td>\n",
              "      <td id=\"T_add65_row0_col4\" class=\"data row0 col4\" >0.6819</td>\n",
              "      <td id=\"T_add65_row0_col5\" class=\"data row0 col5\" >0.5369</td>\n",
              "      <td id=\"T_add65_row0_col6\" class=\"data row0 col6\" >0.5135</td>\n",
              "      <td id=\"T_add65_row0_col7\" class=\"data row0 col7\" >0.5271</td>\n",
              "      <td id=\"T_add65_row0_col8\" class=\"data row0 col8\" >4.4790</td>\n",
              "    </tr>\n",
              "    <tr>\n",
              "      <th id=\"T_add65_level0_row1\" class=\"row_heading level0 row1\" >lightgbm</th>\n",
              "      <td id=\"T_add65_row1_col0\" class=\"data row1 col0\" >Light Gradient Boosting Machine</td>\n",
              "      <td id=\"T_add65_row1_col1\" class=\"data row1 col1\" >0.9529</td>\n",
              "      <td id=\"T_add65_row1_col2\" class=\"data row1 col2\" >0.9608</td>\n",
              "      <td id=\"T_add65_row1_col3\" class=\"data row1 col3\" >0.4467</td>\n",
              "      <td id=\"T_add65_row1_col4\" class=\"data row1 col4\" >0.6743</td>\n",
              "      <td id=\"T_add65_row1_col5\" class=\"data row1 col5\" >0.5368</td>\n",
              "      <td id=\"T_add65_row1_col6\" class=\"data row1 col6\" >0.5130</td>\n",
              "      <td id=\"T_add65_row1_col7\" class=\"data row1 col7\" >0.5255</td>\n",
              "      <td id=\"T_add65_row1_col8\" class=\"data row1 col8\" >0.1480</td>\n",
              "    </tr>\n",
              "    <tr>\n",
              "      <th id=\"T_add65_level0_row2\" class=\"row_heading level0 row2\" >gbc</th>\n",
              "      <td id=\"T_add65_row2_col0\" class=\"data row2 col0\" >Gradient Boosting Classifier</td>\n",
              "      <td id=\"T_add65_row2_col1\" class=\"data row2 col1\" >0.9511</td>\n",
              "      <td id=\"T_add65_row2_col2\" class=\"data row2 col2\" >0.9575</td>\n",
              "      <td id=\"T_add65_row2_col3\" class=\"data row2 col3\" >0.4281</td>\n",
              "      <td id=\"T_add65_row2_col4\" class=\"data row2 col4\" >0.6527</td>\n",
              "      <td id=\"T_add65_row2_col5\" class=\"data row2 col5\" >0.5163</td>\n",
              "      <td id=\"T_add65_row2_col6\" class=\"data row2 col6\" >0.4918</td>\n",
              "      <td id=\"T_add65_row2_col7\" class=\"data row2 col7\" >0.5043</td>\n",
              "      <td id=\"T_add65_row2_col8\" class=\"data row2 col8\" >0.5510</td>\n",
              "    </tr>\n",
              "    <tr>\n",
              "      <th id=\"T_add65_level0_row3\" class=\"row_heading level0 row3\" >xgboost</th>\n",
              "      <td id=\"T_add65_row3_col0\" class=\"data row3 col0\" >Extreme Gradient Boosting</td>\n",
              "      <td id=\"T_add65_row3_col1\" class=\"data row3 col1\" >0.9505</td>\n",
              "      <td id=\"T_add65_row3_col2\" class=\"data row3 col2\" >0.9594</td>\n",
              "      <td id=\"T_add65_row3_col3\" class=\"data row3 col3\" >0.4441</td>\n",
              "      <td id=\"T_add65_row3_col4\" class=\"data row3 col4\" >0.6389</td>\n",
              "      <td id=\"T_add65_row3_col5\" class=\"data row3 col5\" >0.5223</td>\n",
              "      <td id=\"T_add65_row3_col6\" class=\"data row3 col6\" >0.4972</td>\n",
              "      <td id=\"T_add65_row3_col7\" class=\"data row3 col7\" >0.5072</td>\n",
              "      <td id=\"T_add65_row3_col8\" class=\"data row3 col8\" >0.1240</td>\n",
              "    </tr>\n",
              "    <tr>\n",
              "      <th id=\"T_add65_level0_row4\" class=\"row_heading level0 row4\" >rf</th>\n",
              "      <td id=\"T_add65_row4_col0\" class=\"data row4 col0\" >Random Forest Classifier</td>\n",
              "      <td id=\"T_add65_row4_col1\" class=\"data row4 col1\" >0.9483</td>\n",
              "      <td id=\"T_add65_row4_col2\" class=\"data row4 col2\" >0.9462</td>\n",
              "      <td id=\"T_add65_row4_col3\" class=\"data row4 col3\" >0.2420</td>\n",
              "      <td id=\"T_add65_row4_col4\" class=\"data row4 col4\" >0.7421</td>\n",
              "      <td id=\"T_add65_row4_col5\" class=\"data row4 col5\" >0.3628</td>\n",
              "      <td id=\"T_add65_row4_col6\" class=\"data row4 col6\" >0.3431</td>\n",
              "      <td id=\"T_add65_row4_col7\" class=\"data row4 col7\" >0.4036</td>\n",
              "      <td id=\"T_add65_row4_col8\" class=\"data row4 col8\" >0.2520</td>\n",
              "    </tr>\n",
              "    <tr>\n",
              "      <th id=\"T_add65_level0_row5\" class=\"row_heading level0 row5\" >ada</th>\n",
              "      <td id=\"T_add65_row5_col0\" class=\"data row5 col0\" >Ada Boost Classifier</td>\n",
              "      <td id=\"T_add65_row5_col1\" class=\"data row5 col1\" >0.9477</td>\n",
              "      <td id=\"T_add65_row5_col2\" class=\"data row5 col2\" >0.9495</td>\n",
              "      <td id=\"T_add65_row5_col3\" class=\"data row5 col3\" >0.3897</td>\n",
              "      <td id=\"T_add65_row5_col4\" class=\"data row5 col4\" >0.6179</td>\n",
              "      <td id=\"T_add65_row5_col5\" class=\"data row5 col5\" >0.4757</td>\n",
              "      <td id=\"T_add65_row5_col6\" class=\"data row5 col6\" >0.4498</td>\n",
              "      <td id=\"T_add65_row5_col7\" class=\"data row5 col7\" >0.4641</td>\n",
              "      <td id=\"T_add65_row5_col8\" class=\"data row5 col8\" >0.1870</td>\n",
              "    </tr>\n",
              "    <tr>\n",
              "      <th id=\"T_add65_level0_row6\" class=\"row_heading level0 row6\" >lr</th>\n",
              "      <td id=\"T_add65_row6_col0\" class=\"data row6 col0\" >Logistic Regression</td>\n",
              "      <td id=\"T_add65_row6_col1\" class=\"data row6 col1\" >0.9440</td>\n",
              "      <td id=\"T_add65_row6_col2\" class=\"data row6 col2\" >0.9243</td>\n",
              "      <td id=\"T_add65_row6_col3\" class=\"data row6 col3\" >0.2421</td>\n",
              "      <td id=\"T_add65_row6_col4\" class=\"data row6 col4\" >0.6072</td>\n",
              "      <td id=\"T_add65_row6_col5\" class=\"data row6 col5\" >0.3443</td>\n",
              "      <td id=\"T_add65_row6_col6\" class=\"data row6 col6\" >0.3208</td>\n",
              "      <td id=\"T_add65_row6_col7\" class=\"data row6 col7\" >0.3591</td>\n",
              "      <td id=\"T_add65_row6_col8\" class=\"data row6 col8\" >0.5480</td>\n",
              "    </tr>\n",
              "    <tr>\n",
              "      <th id=\"T_add65_level0_row7\" class=\"row_heading level0 row7\" >et</th>\n",
              "      <td id=\"T_add65_row7_col0\" class=\"data row7 col0\" >Extra Trees Classifier</td>\n",
              "      <td id=\"T_add65_row7_col1\" class=\"data row7 col1\" >0.9437</td>\n",
              "      <td id=\"T_add65_row7_col2\" class=\"data row7 col2\" >0.9412</td>\n",
              "      <td id=\"T_add65_row7_col3\" class=\"data row7 col3\" >0.1397</td>\n",
              "      <td id=\"T_add65_row7_col4\" class=\"data row7 col4\" >0.7185</td>\n",
              "      <td id=\"T_add65_row7_col5\" class=\"data row7 col5\" >0.2316</td>\n",
              "      <td id=\"T_add65_row7_col6\" class=\"data row7 col6\" >0.2158</td>\n",
              "      <td id=\"T_add65_row7_col7\" class=\"data row7 col7\" >0.2979</td>\n",
              "      <td id=\"T_add65_row7_col8\" class=\"data row7 col8\" >0.2000</td>\n",
              "    </tr>\n",
              "    <tr>\n",
              "      <th id=\"T_add65_level0_row8\" class=\"row_heading level0 row8\" >ridge</th>\n",
              "      <td id=\"T_add65_row8_col0\" class=\"data row8 col0\" >Ridge Classifier</td>\n",
              "      <td id=\"T_add65_row8_col1\" class=\"data row8 col1\" >0.9416</td>\n",
              "      <td id=\"T_add65_row8_col2\" class=\"data row8 col2\" >0.9315</td>\n",
              "      <td id=\"T_add65_row8_col3\" class=\"data row8 col3\" >0.1264</td>\n",
              "      <td id=\"T_add65_row8_col4\" class=\"data row8 col4\" >0.6140</td>\n",
              "      <td id=\"T_add65_row8_col5\" class=\"data row8 col5\" >0.2084</td>\n",
              "      <td id=\"T_add65_row8_col6\" class=\"data row8 col6\" >0.1915</td>\n",
              "      <td id=\"T_add65_row8_col7\" class=\"data row8 col7\" >0.2589</td>\n",
              "      <td id=\"T_add65_row8_col8\" class=\"data row8 col8\" >0.0560</td>\n",
              "    </tr>\n",
              "    <tr>\n",
              "      <th id=\"T_add65_level0_row9\" class=\"row_heading level0 row9\" >dummy</th>\n",
              "      <td id=\"T_add65_row9_col0\" class=\"data row9 col0\" >Dummy Classifier</td>\n",
              "      <td id=\"T_add65_row9_col1\" class=\"data row9 col1\" >0.9389</td>\n",
              "      <td id=\"T_add65_row9_col2\" class=\"data row9 col2\" >0.5000</td>\n",
              "      <td id=\"T_add65_row9_col3\" class=\"data row9 col3\" >0.0000</td>\n",
              "      <td id=\"T_add65_row9_col4\" class=\"data row9 col4\" >0.0000</td>\n",
              "      <td id=\"T_add65_row9_col5\" class=\"data row9 col5\" >0.0000</td>\n",
              "      <td id=\"T_add65_row9_col6\" class=\"data row9 col6\" >0.0000</td>\n",
              "      <td id=\"T_add65_row9_col7\" class=\"data row9 col7\" >0.0000</td>\n",
              "      <td id=\"T_add65_row9_col8\" class=\"data row9 col8\" >0.0630</td>\n",
              "    </tr>\n",
              "    <tr>\n",
              "      <th id=\"T_add65_level0_row10\" class=\"row_heading level0 row10\" >knn</th>\n",
              "      <td id=\"T_add65_row10_col0\" class=\"data row10 col0\" >K Neighbors Classifier</td>\n",
              "      <td id=\"T_add65_row10_col1\" class=\"data row10 col1\" >0.9377</td>\n",
              "      <td id=\"T_add65_row10_col2\" class=\"data row10 col2\" >0.6679</td>\n",
              "      <td id=\"T_add65_row10_col3\" class=\"data row10 col3\" >0.0704</td>\n",
              "      <td id=\"T_add65_row10_col4\" class=\"data row10 col4\" >0.4520</td>\n",
              "      <td id=\"T_add65_row10_col5\" class=\"data row10 col5\" >0.1206</td>\n",
              "      <td id=\"T_add65_row10_col6\" class=\"data row10 col6\" >0.1057</td>\n",
              "      <td id=\"T_add65_row10_col7\" class=\"data row10 col7\" >0.1579</td>\n",
              "      <td id=\"T_add65_row10_col8\" class=\"data row10 col8\" >0.1060</td>\n",
              "    </tr>\n",
              "    <tr>\n",
              "      <th id=\"T_add65_level0_row11\" class=\"row_heading level0 row11\" >lda</th>\n",
              "      <td id=\"T_add65_row11_col0\" class=\"data row11 col0\" >Linear Discriminant Analysis</td>\n",
              "      <td id=\"T_add65_row11_col1\" class=\"data row11 col1\" >0.9342</td>\n",
              "      <td id=\"T_add65_row11_col2\" class=\"data row11 col2\" >0.9310</td>\n",
              "      <td id=\"T_add65_row11_col3\" class=\"data row11 col3\" >0.4309</td>\n",
              "      <td id=\"T_add65_row11_col4\" class=\"data row11 col4\" >0.4604</td>\n",
              "      <td id=\"T_add65_row11_col5\" class=\"data row11 col5\" >0.4446</td>\n",
              "      <td id=\"T_add65_row11_col6\" class=\"data row11 col6\" >0.4097</td>\n",
              "      <td id=\"T_add65_row11_col7\" class=\"data row11 col7\" >0.4103</td>\n",
              "      <td id=\"T_add65_row11_col8\" class=\"data row11 col8\" >0.0920</td>\n",
              "    </tr>\n",
              "    <tr>\n",
              "      <th id=\"T_add65_level0_row12\" class=\"row_heading level0 row12\" >dt</th>\n",
              "      <td id=\"T_add65_row12_col0\" class=\"data row12 col0\" >Decision Tree Classifier</td>\n",
              "      <td id=\"T_add65_row12_col1\" class=\"data row12 col1\" >0.9319</td>\n",
              "      <td id=\"T_add65_row12_col2\" class=\"data row12 col2\" >0.7107</td>\n",
              "      <td id=\"T_add65_row12_col3\" class=\"data row12 col3\" >0.4587</td>\n",
              "      <td id=\"T_add65_row12_col4\" class=\"data row12 col4\" >0.4485</td>\n",
              "      <td id=\"T_add65_row12_col5\" class=\"data row12 col5\" >0.4519</td>\n",
              "      <td id=\"T_add65_row12_col6\" class=\"data row12 col6\" >0.4158</td>\n",
              "      <td id=\"T_add65_row12_col7\" class=\"data row12 col7\" >0.4167</td>\n",
              "      <td id=\"T_add65_row12_col8\" class=\"data row12 col8\" >0.0820</td>\n",
              "    </tr>\n",
              "    <tr>\n",
              "      <th id=\"T_add65_level0_row13\" class=\"row_heading level0 row13\" >svm</th>\n",
              "      <td id=\"T_add65_row13_col0\" class=\"data row13 col0\" >SVM - Linear Kernel</td>\n",
              "      <td id=\"T_add65_row13_col1\" class=\"data row13 col1\" >0.9095</td>\n",
              "      <td id=\"T_add65_row13_col2\" class=\"data row13 col2\" >0.7768</td>\n",
              "      <td id=\"T_add65_row13_col3\" class=\"data row13 col3\" >0.0853</td>\n",
              "      <td id=\"T_add65_row13_col4\" class=\"data row13 col4\" >0.1953</td>\n",
              "      <td id=\"T_add65_row13_col5\" class=\"data row13 col5\" >0.0357</td>\n",
              "      <td id=\"T_add65_row13_col6\" class=\"data row13 col6\" >0.0254</td>\n",
              "      <td id=\"T_add65_row13_col7\" class=\"data row13 col7\" >0.0536</td>\n",
              "      <td id=\"T_add65_row13_col8\" class=\"data row13 col8\" >0.1250</td>\n",
              "    </tr>\n",
              "    <tr>\n",
              "      <th id=\"T_add65_level0_row14\" class=\"row_heading level0 row14\" >nb</th>\n",
              "      <td id=\"T_add65_row14_col0\" class=\"data row14 col0\" >Naive Bayes</td>\n",
              "      <td id=\"T_add65_row14_col1\" class=\"data row14 col1\" >0.8215</td>\n",
              "      <td id=\"T_add65_row14_col2\" class=\"data row14 col2\" >0.8567</td>\n",
              "      <td id=\"T_add65_row14_col3\" class=\"data row14 col3\" >0.7166</td>\n",
              "      <td id=\"T_add65_row14_col4\" class=\"data row14 col4\" >0.2205</td>\n",
              "      <td id=\"T_add65_row14_col5\" class=\"data row14 col5\" >0.3356</td>\n",
              "      <td id=\"T_add65_row14_col6\" class=\"data row14 col6\" >0.2669</td>\n",
              "      <td id=\"T_add65_row14_col7\" class=\"data row14 col7\" >0.3286</td>\n",
              "      <td id=\"T_add65_row14_col8\" class=\"data row14 col8\" >0.0740</td>\n",
              "    </tr>\n",
              "    <tr>\n",
              "      <th id=\"T_add65_level0_row15\" class=\"row_heading level0 row15\" >qda</th>\n",
              "      <td id=\"T_add65_row15_col0\" class=\"data row15 col0\" >Quadratic Discriminant Analysis</td>\n",
              "      <td id=\"T_add65_row15_col1\" class=\"data row15 col1\" >0.7472</td>\n",
              "      <td id=\"T_add65_row15_col2\" class=\"data row15 col2\" >0.8456</td>\n",
              "      <td id=\"T_add65_row15_col3\" class=\"data row15 col3\" >0.6632</td>\n",
              "      <td id=\"T_add65_row15_col4\" class=\"data row15 col4\" >0.2194</td>\n",
              "      <td id=\"T_add65_row15_col5\" class=\"data row15 col5\" >0.3092</td>\n",
              "      <td id=\"T_add65_row15_col6\" class=\"data row15 col6\" >0.2389</td>\n",
              "      <td id=\"T_add65_row15_col7\" class=\"data row15 col7\" >0.2750</td>\n",
              "      <td id=\"T_add65_row15_col8\" class=\"data row15 col8\" >0.0840</td>\n",
              "    </tr>\n",
              "  </tbody>\n",
              "</table>\n"
            ],
            "text/plain": [
              "<pandas.io.formats.style.Styler at 0x1bdd1b5bdc0>"
            ]
          },
          "metadata": {},
          "output_type": "display_data"
        },
        {
          "data": {
            "text/html": [],
            "text/plain": [
              "<IPython.core.display.HTML object>"
            ]
          },
          "metadata": {},
          "output_type": "display_data"
        },
        {
          "data": {
            "text/plain": [
              "<catboost.core.CatBoostClassifier at 0x1bdd86d9990>"
            ]
          },
          "execution_count": 44,
          "metadata": {},
          "output_type": "execute_result"
        }
      ],
      "source": [
        "compare_models()"
      ]
    },
    {
      "cell_type": "code",
      "execution_count": 47,
      "metadata": {},
      "outputs": [
        {
          "data": {
            "text/html": [],
            "text/plain": [
              "<IPython.core.display.HTML object>"
            ]
          },
          "metadata": {},
          "output_type": "display_data"
        },
        {
          "data": {
            "image/png": "[encoded data removed]",
            "text/plain": [
              "<Figure size 800x500 with 1 Axes>"
            ]
          },
          "metadata": {},
          "output_type": "display_data"
        }
      ],
      "source": [
        "plot_model(final_model, plot='feature')"
      ]
    },
    {
      "cell_type": "code",
      "execution_count": 54,
      "metadata": {},
      "outputs": [
        {
          "data": {
            "text/html": [],
            "text/plain": [
              "<IPython.core.display.HTML object>"
            ]
          },
          "metadata": {},
          "output_type": "display_data"
        },
        {
          "data": {
            "text/html": [
              "<style type=\"text/css\">\n",
              "#T_28261 th {\n",
              "  text-align: left;\n",
              "}\n",
              "#T_28261_row0_col0, #T_28261_row0_col3, #T_28261_row0_col4, #T_28261_row1_col0, #T_28261_row1_col1, #T_28261_row1_col2, #T_28261_row1_col3, #T_28261_row1_col4, #T_28261_row1_col5, #T_28261_row1_col6, #T_28261_row1_col7, #T_28261_row2_col0, #T_28261_row2_col1, #T_28261_row2_col2, #T_28261_row2_col3, #T_28261_row2_col4, #T_28261_row2_col5, #T_28261_row2_col6, #T_28261_row2_col7, #T_28261_row3_col0, #T_28261_row3_col1, #T_28261_row3_col2, #T_28261_row3_col3, #T_28261_row3_col4, #T_28261_row3_col5, #T_28261_row3_col6, #T_28261_row3_col7, #T_28261_row4_col0, #T_28261_row4_col1, #T_28261_row4_col2, #T_28261_row4_col3, #T_28261_row4_col5, #T_28261_row4_col6, #T_28261_row4_col7, #T_28261_row5_col0, #T_28261_row5_col1, #T_28261_row5_col2, #T_28261_row5_col3, #T_28261_row5_col4, #T_28261_row5_col5, #T_28261_row5_col6, #T_28261_row5_col7, #T_28261_row6_col0, #T_28261_row6_col1, #T_28261_row6_col2, #T_28261_row6_col3, #T_28261_row6_col4, #T_28261_row6_col5, #T_28261_row6_col6, #T_28261_row6_col7, #T_28261_row7_col0, #T_28261_row7_col1, #T_28261_row7_col2, #T_28261_row7_col3, #T_28261_row7_col4, #T_28261_row7_col5, #T_28261_row7_col6, #T_28261_row7_col7, #T_28261_row8_col0, #T_28261_row8_col1, #T_28261_row8_col2, #T_28261_row8_col3, #T_28261_row8_col4, #T_28261_row8_col5, #T_28261_row8_col6, #T_28261_row8_col7, #T_28261_row9_col0, #T_28261_row9_col1, #T_28261_row9_col2, #T_28261_row9_col3, #T_28261_row9_col4, #T_28261_row9_col5, #T_28261_row9_col6, #T_28261_row9_col7, #T_28261_row10_col0, #T_28261_row10_col1, #T_28261_row10_col2, #T_28261_row10_col3, #T_28261_row10_col4, #T_28261_row10_col5, #T_28261_row10_col6, #T_28261_row10_col7, #T_28261_row11_col0, #T_28261_row11_col1, #T_28261_row11_col2, #T_28261_row11_col3, #T_28261_row11_col4, #T_28261_row11_col5, #T_28261_row11_col6, #T_28261_row11_col7, #T_28261_row12_col0, #T_28261_row12_col1, #T_28261_row12_col2, #T_28261_row12_col3, #T_28261_row12_col4, #T_28261_row12_col5, #T_28261_row12_col6, #T_28261_row12_col7, #T_28261_row13_col0, #T_28261_row13_col1, #T_28261_row13_col2, #T_28261_row13_col3, #T_28261_row13_col4, #T_28261_row13_col5, #T_28261_row13_col6, #T_28261_row13_col7, #T_28261_row14_col0, #T_28261_row14_col1, #T_28261_row14_col2, #T_28261_row14_col4, #T_28261_row14_col5, #T_28261_row14_col6, #T_28261_row14_col7, #T_28261_row15_col0, #T_28261_row15_col1, #T_28261_row15_col2, #T_28261_row15_col3, #T_28261_row15_col4, #T_28261_row15_col5, #T_28261_row15_col6, #T_28261_row15_col7 {\n",
              "  text-align: left;\n",
              "}\n",
              "#T_28261_row0_col1, #T_28261_row0_col2, #T_28261_row0_col5, #T_28261_row0_col6, #T_28261_row0_col7, #T_28261_row4_col4, #T_28261_row14_col3 {\n",
              "  text-align: left;\n",
              "  background-color: yellow;\n",
              "}\n",
              "#T_28261_row0_col8, #T_28261_row1_col8, #T_28261_row2_col8, #T_28261_row3_col8, #T_28261_row4_col8, #T_28261_row5_col8, #T_28261_row6_col8, #T_28261_row7_col8, #T_28261_row8_col8, #T_28261_row10_col8, #T_28261_row11_col8, #T_28261_row12_col8, #T_28261_row13_col8, #T_28261_row14_col8, #T_28261_row15_col8 {\n",
              "  text-align: left;\n",
              "  background-color: lightgrey;\n",
              "}\n",
              "#T_28261_row9_col8 {\n",
              "  text-align: left;\n",
              "  background-color: yellow;\n",
              "  background-color: lightgrey;\n",
              "}\n",
              "</style>\n",
              "<table id=\"T_28261\">\n",
              "  <thead>\n",
              "    <tr>\n",
              "      <th class=\"blank level0\" >&nbsp;</th>\n",
              "      <th id=\"T_28261_level0_col0\" class=\"col_heading level0 col0\" >Model</th>\n",
              "      <th id=\"T_28261_level0_col1\" class=\"col_heading level0 col1\" >Accuracy</th>\n",
              "      <th id=\"T_28261_level0_col2\" class=\"col_heading level0 col2\" >AUC</th>\n",
              "      <th id=\"T_28261_level0_col3\" class=\"col_heading level0 col3\" >Recall</th>\n",
              "      <th id=\"T_28261_level0_col4\" class=\"col_heading level0 col4\" >Prec.</th>\n",
              "      <th id=\"T_28261_level0_col5\" class=\"col_heading level0 col5\" >F1</th>\n",
              "      <th id=\"T_28261_level0_col6\" class=\"col_heading level0 col6\" >Kappa</th>\n",
              "      <th id=\"T_28261_level0_col7\" class=\"col_heading level0 col7\" >MCC</th>\n",
              "      <th id=\"T_28261_level0_col8\" class=\"col_heading level0 col8\" >TT (Sec)</th>\n",
              "    </tr>\n",
              "  </thead>\n",
              "  <tbody>\n",
              "    <tr>\n",
              "      <th id=\"T_28261_level0_row0\" class=\"row_heading level0 row0\" >catboost</th>\n",
              "      <td id=\"T_28261_row0_col0\" class=\"data row0 col0\" >CatBoost Classifier</td>\n",
              "      <td id=\"T_28261_row0_col1\" class=\"data row0 col1\" >0.9534</td>\n",
              "      <td id=\"T_28261_row0_col2\" class=\"data row0 col2\" >0.9611</td>\n",
              "      <td id=\"T_28261_row0_col3\" class=\"data row0 col3\" >0.4441</td>\n",
              "      <td id=\"T_28261_row0_col4\" class=\"data row0 col4\" >0.6819</td>\n",
              "      <td id=\"T_28261_row0_col5\" class=\"data row0 col5\" >0.5369</td>\n",
              "      <td id=\"T_28261_row0_col6\" class=\"data row0 col6\" >0.5135</td>\n",
              "      <td id=\"T_28261_row0_col7\" class=\"data row0 col7\" >0.5271</td>\n",
              "      <td id=\"T_28261_row0_col8\" class=\"data row0 col8\" >4.5770</td>\n",
              "    </tr>\n",
              "    <tr>\n",
              "      <th id=\"T_28261_level0_row1\" class=\"row_heading level0 row1\" >lightgbm</th>\n",
              "      <td id=\"T_28261_row1_col0\" class=\"data row1 col0\" >Light Gradient Boosting Machine</td>\n",
              "      <td id=\"T_28261_row1_col1\" class=\"data row1 col1\" >0.9529</td>\n",
              "      <td id=\"T_28261_row1_col2\" class=\"data row1 col2\" >0.9608</td>\n",
              "      <td id=\"T_28261_row1_col3\" class=\"data row1 col3\" >0.4467</td>\n",
              "      <td id=\"T_28261_row1_col4\" class=\"data row1 col4\" >0.6743</td>\n",
              "      <td id=\"T_28261_row1_col5\" class=\"data row1 col5\" >0.5368</td>\n",
              "      <td id=\"T_28261_row1_col6\" class=\"data row1 col6\" >0.5130</td>\n",
              "      <td id=\"T_28261_row1_col7\" class=\"data row1 col7\" >0.5255</td>\n",
              "      <td id=\"T_28261_row1_col8\" class=\"data row1 col8\" >0.1600</td>\n",
              "    </tr>\n",
              "    <tr>\n",
              "      <th id=\"T_28261_level0_row2\" class=\"row_heading level0 row2\" >gbc</th>\n",
              "      <td id=\"T_28261_row2_col0\" class=\"data row2 col0\" >Gradient Boosting Classifier</td>\n",
              "      <td id=\"T_28261_row2_col1\" class=\"data row2 col1\" >0.9511</td>\n",
              "      <td id=\"T_28261_row2_col2\" class=\"data row2 col2\" >0.9575</td>\n",
              "      <td id=\"T_28261_row2_col3\" class=\"data row2 col3\" >0.4281</td>\n",
              "      <td id=\"T_28261_row2_col4\" class=\"data row2 col4\" >0.6527</td>\n",
              "      <td id=\"T_28261_row2_col5\" class=\"data row2 col5\" >0.5163</td>\n",
              "      <td id=\"T_28261_row2_col6\" class=\"data row2 col6\" >0.4918</td>\n",
              "      <td id=\"T_28261_row2_col7\" class=\"data row2 col7\" >0.5043</td>\n",
              "      <td id=\"T_28261_row2_col8\" class=\"data row2 col8\" >0.5490</td>\n",
              "    </tr>\n",
              "    <tr>\n",
              "      <th id=\"T_28261_level0_row3\" class=\"row_heading level0 row3\" >xgboost</th>\n",
              "      <td id=\"T_28261_row3_col0\" class=\"data row3 col0\" >Extreme Gradient Boosting</td>\n",
              "      <td id=\"T_28261_row3_col1\" class=\"data row3 col1\" >0.9505</td>\n",
              "      <td id=\"T_28261_row3_col2\" class=\"data row3 col2\" >0.9594</td>\n",
              "      <td id=\"T_28261_row3_col3\" class=\"data row3 col3\" >0.4441</td>\n",
              "      <td id=\"T_28261_row3_col4\" class=\"data row3 col4\" >0.6389</td>\n",
              "      <td id=\"T_28261_row3_col5\" class=\"data row3 col5\" >0.5223</td>\n",
              "      <td id=\"T_28261_row3_col6\" class=\"data row3 col6\" >0.4972</td>\n",
              "      <td id=\"T_28261_row3_col7\" class=\"data row3 col7\" >0.5072</td>\n",
              "      <td id=\"T_28261_row3_col8\" class=\"data row3 col8\" >0.2290</td>\n",
              "    </tr>\n",
              "    <tr>\n",
              "      <th id=\"T_28261_level0_row4\" class=\"row_heading level0 row4\" >rf</th>\n",
              "      <td id=\"T_28261_row4_col0\" class=\"data row4 col0\" >Random Forest Classifier</td>\n",
              "      <td id=\"T_28261_row4_col1\" class=\"data row4 col1\" >0.9483</td>\n",
              "      <td id=\"T_28261_row4_col2\" class=\"data row4 col2\" >0.9462</td>\n",
              "      <td id=\"T_28261_row4_col3\" class=\"data row4 col3\" >0.2420</td>\n",
              "      <td id=\"T_28261_row4_col4\" class=\"data row4 col4\" >0.7421</td>\n",
              "      <td id=\"T_28261_row4_col5\" class=\"data row4 col5\" >0.3628</td>\n",
              "      <td id=\"T_28261_row4_col6\" class=\"data row4 col6\" >0.3431</td>\n",
              "      <td id=\"T_28261_row4_col7\" class=\"data row4 col7\" >0.4036</td>\n",
              "      <td id=\"T_28261_row4_col8\" class=\"data row4 col8\" >0.2710</td>\n",
              "    </tr>\n",
              "    <tr>\n",
              "      <th id=\"T_28261_level0_row5\" class=\"row_heading level0 row5\" >ada</th>\n",
              "      <td id=\"T_28261_row5_col0\" class=\"data row5 col0\" >Ada Boost Classifier</td>\n",
              "      <td id=\"T_28261_row5_col1\" class=\"data row5 col1\" >0.9477</td>\n",
              "      <td id=\"T_28261_row5_col2\" class=\"data row5 col2\" >0.9495</td>\n",
              "      <td id=\"T_28261_row5_col3\" class=\"data row5 col3\" >0.3897</td>\n",
              "      <td id=\"T_28261_row5_col4\" class=\"data row5 col4\" >0.6179</td>\n",
              "      <td id=\"T_28261_row5_col5\" class=\"data row5 col5\" >0.4757</td>\n",
              "      <td id=\"T_28261_row5_col6\" class=\"data row5 col6\" >0.4498</td>\n",
              "      <td id=\"T_28261_row5_col7\" class=\"data row5 col7\" >0.4641</td>\n",
              "      <td id=\"T_28261_row5_col8\" class=\"data row5 col8\" >0.2030</td>\n",
              "    </tr>\n",
              "    <tr>\n",
              "      <th id=\"T_28261_level0_row6\" class=\"row_heading level0 row6\" >lr</th>\n",
              "      <td id=\"T_28261_row6_col0\" class=\"data row6 col0\" >Logistic Regression</td>\n",
              "      <td id=\"T_28261_row6_col1\" class=\"data row6 col1\" >0.9440</td>\n",
              "      <td id=\"T_28261_row6_col2\" class=\"data row6 col2\" >0.9243</td>\n",
              "      <td id=\"T_28261_row6_col3\" class=\"data row6 col3\" >0.2421</td>\n",
              "      <td id=\"T_28261_row6_col4\" class=\"data row6 col4\" >0.6072</td>\n",
              "      <td id=\"T_28261_row6_col5\" class=\"data row6 col5\" >0.3443</td>\n",
              "      <td id=\"T_28261_row6_col6\" class=\"data row6 col6\" >0.3208</td>\n",
              "      <td id=\"T_28261_row6_col7\" class=\"data row6 col7\" >0.3591</td>\n",
              "      <td id=\"T_28261_row6_col8\" class=\"data row6 col8\" >1.2990</td>\n",
              "    </tr>\n",
              "    <tr>\n",
              "      <th id=\"T_28261_level0_row7\" class=\"row_heading level0 row7\" >et</th>\n",
              "      <td id=\"T_28261_row7_col0\" class=\"data row7 col0\" >Extra Trees Classifier</td>\n",
              "      <td id=\"T_28261_row7_col1\" class=\"data row7 col1\" >0.9437</td>\n",
              "      <td id=\"T_28261_row7_col2\" class=\"data row7 col2\" >0.9412</td>\n",
              "      <td id=\"T_28261_row7_col3\" class=\"data row7 col3\" >0.1397</td>\n",
              "      <td id=\"T_28261_row7_col4\" class=\"data row7 col4\" >0.7185</td>\n",
              "      <td id=\"T_28261_row7_col5\" class=\"data row7 col5\" >0.2316</td>\n",
              "      <td id=\"T_28261_row7_col6\" class=\"data row7 col6\" >0.2158</td>\n",
              "      <td id=\"T_28261_row7_col7\" class=\"data row7 col7\" >0.2979</td>\n",
              "      <td id=\"T_28261_row7_col8\" class=\"data row7 col8\" >0.1970</td>\n",
              "    </tr>\n",
              "    <tr>\n",
              "      <th id=\"T_28261_level0_row8\" class=\"row_heading level0 row8\" >ridge</th>\n",
              "      <td id=\"T_28261_row8_col0\" class=\"data row8 col0\" >Ridge Classifier</td>\n",
              "      <td id=\"T_28261_row8_col1\" class=\"data row8 col1\" >0.9416</td>\n",
              "      <td id=\"T_28261_row8_col2\" class=\"data row8 col2\" >0.9315</td>\n",
              "      <td id=\"T_28261_row8_col3\" class=\"data row8 col3\" >0.1264</td>\n",
              "      <td id=\"T_28261_row8_col4\" class=\"data row8 col4\" >0.6140</td>\n",
              "      <td id=\"T_28261_row8_col5\" class=\"data row8 col5\" >0.2084</td>\n",
              "      <td id=\"T_28261_row8_col6\" class=\"data row8 col6\" >0.1915</td>\n",
              "      <td id=\"T_28261_row8_col7\" class=\"data row8 col7\" >0.2589</td>\n",
              "      <td id=\"T_28261_row8_col8\" class=\"data row8 col8\" >0.0730</td>\n",
              "    </tr>\n",
              "    <tr>\n",
              "      <th id=\"T_28261_level0_row9\" class=\"row_heading level0 row9\" >dummy</th>\n",
              "      <td id=\"T_28261_row9_col0\" class=\"data row9 col0\" >Dummy Classifier</td>\n",
              "      <td id=\"T_28261_row9_col1\" class=\"data row9 col1\" >0.9389</td>\n",
              "      <td id=\"T_28261_row9_col2\" class=\"data row9 col2\" >0.5000</td>\n",
              "      <td id=\"T_28261_row9_col3\" class=\"data row9 col3\" >0.0000</td>\n",
              "      <td id=\"T_28261_row9_col4\" class=\"data row9 col4\" >0.0000</td>\n",
              "      <td id=\"T_28261_row9_col5\" class=\"data row9 col5\" >0.0000</td>\n",
              "      <td id=\"T_28261_row9_col6\" class=\"data row9 col6\" >0.0000</td>\n",
              "      <td id=\"T_28261_row9_col7\" class=\"data row9 col7\" >0.0000</td>\n",
              "      <td id=\"T_28261_row9_col8\" class=\"data row9 col8\" >0.0570</td>\n",
              "    </tr>\n",
              "    <tr>\n",
              "      <th id=\"T_28261_level0_row10\" class=\"row_heading level0 row10\" >knn</th>\n",
              "      <td id=\"T_28261_row10_col0\" class=\"data row10 col0\" >K Neighbors Classifier</td>\n",
              "      <td id=\"T_28261_row10_col1\" class=\"data row10 col1\" >0.9377</td>\n",
              "      <td id=\"T_28261_row10_col2\" class=\"data row10 col2\" >0.6679</td>\n",
              "      <td id=\"T_28261_row10_col3\" class=\"data row10 col3\" >0.0704</td>\n",
              "      <td id=\"T_28261_row10_col4\" class=\"data row10 col4\" >0.4520</td>\n",
              "      <td id=\"T_28261_row10_col5\" class=\"data row10 col5\" >0.1206</td>\n",
              "      <td id=\"T_28261_row10_col6\" class=\"data row10 col6\" >0.1057</td>\n",
              "      <td id=\"T_28261_row10_col7\" class=\"data row10 col7\" >0.1579</td>\n",
              "      <td id=\"T_28261_row10_col8\" class=\"data row10 col8\" >0.4660</td>\n",
              "    </tr>\n",
              "    <tr>\n",
              "      <th id=\"T_28261_level0_row11\" class=\"row_heading level0 row11\" >lda</th>\n",
              "      <td id=\"T_28261_row11_col0\" class=\"data row11 col0\" >Linear Discriminant Analysis</td>\n",
              "      <td id=\"T_28261_row11_col1\" class=\"data row11 col1\" >0.9342</td>\n",
              "      <td id=\"T_28261_row11_col2\" class=\"data row11 col2\" >0.9310</td>\n",
              "      <td id=\"T_28261_row11_col3\" class=\"data row11 col3\" >0.4309</td>\n",
              "      <td id=\"T_28261_row11_col4\" class=\"data row11 col4\" >0.4604</td>\n",
              "      <td id=\"T_28261_row11_col5\" class=\"data row11 col5\" >0.4446</td>\n",
              "      <td id=\"T_28261_row11_col6\" class=\"data row11 col6\" >0.4097</td>\n",
              "      <td id=\"T_28261_row11_col7\" class=\"data row11 col7\" >0.4103</td>\n",
              "      <td id=\"T_28261_row11_col8\" class=\"data row11 col8\" >0.0820</td>\n",
              "    </tr>\n",
              "    <tr>\n",
              "      <th id=\"T_28261_level0_row12\" class=\"row_heading level0 row12\" >dt</th>\n",
              "      <td id=\"T_28261_row12_col0\" class=\"data row12 col0\" >Decision Tree Classifier</td>\n",
              "      <td id=\"T_28261_row12_col1\" class=\"data row12 col1\" >0.9319</td>\n",
              "      <td id=\"T_28261_row12_col2\" class=\"data row12 col2\" >0.7107</td>\n",
              "      <td id=\"T_28261_row12_col3\" class=\"data row12 col3\" >0.4587</td>\n",
              "      <td id=\"T_28261_row12_col4\" class=\"data row12 col4\" >0.4485</td>\n",
              "      <td id=\"T_28261_row12_col5\" class=\"data row12 col5\" >0.4519</td>\n",
              "      <td id=\"T_28261_row12_col6\" class=\"data row12 col6\" >0.4158</td>\n",
              "      <td id=\"T_28261_row12_col7\" class=\"data row12 col7\" >0.4167</td>\n",
              "      <td id=\"T_28261_row12_col8\" class=\"data row12 col8\" >0.0770</td>\n",
              "    </tr>\n",
              "    <tr>\n",
              "      <th id=\"T_28261_level0_row13\" class=\"row_heading level0 row13\" >svm</th>\n",
              "      <td id=\"T_28261_row13_col0\" class=\"data row13 col0\" >SVM - Linear Kernel</td>\n",
              "      <td id=\"T_28261_row13_col1\" class=\"data row13 col1\" >0.9095</td>\n",
              "      <td id=\"T_28261_row13_col2\" class=\"data row13 col2\" >0.7768</td>\n",
              "      <td id=\"T_28261_row13_col3\" class=\"data row13 col3\" >0.0853</td>\n",
              "      <td id=\"T_28261_row13_col4\" class=\"data row13 col4\" >0.1953</td>\n",
              "      <td id=\"T_28261_row13_col5\" class=\"data row13 col5\" >0.0357</td>\n",
              "      <td id=\"T_28261_row13_col6\" class=\"data row13 col6\" >0.0254</td>\n",
              "      <td id=\"T_28261_row13_col7\" class=\"data row13 col7\" >0.0536</td>\n",
              "      <td id=\"T_28261_row13_col8\" class=\"data row13 col8\" >0.1390</td>\n",
              "    </tr>\n",
              "    <tr>\n",
              "      <th id=\"T_28261_level0_row14\" class=\"row_heading level0 row14\" >nb</th>\n",
              "      <td id=\"T_28261_row14_col0\" class=\"data row14 col0\" >Naive Bayes</td>\n",
              "      <td id=\"T_28261_row14_col1\" class=\"data row14 col1\" >0.8215</td>\n",
              "      <td id=\"T_28261_row14_col2\" class=\"data row14 col2\" >0.8567</td>\n",
              "      <td id=\"T_28261_row14_col3\" class=\"data row14 col3\" >0.7166</td>\n",
              "      <td id=\"T_28261_row14_col4\" class=\"data row14 col4\" >0.2205</td>\n",
              "      <td id=\"T_28261_row14_col5\" class=\"data row14 col5\" >0.3356</td>\n",
              "      <td id=\"T_28261_row14_col6\" class=\"data row14 col6\" >0.2669</td>\n",
              "      <td id=\"T_28261_row14_col7\" class=\"data row14 col7\" >0.3286</td>\n",
              "      <td id=\"T_28261_row14_col8\" class=\"data row14 col8\" >0.0610</td>\n",
              "    </tr>\n",
              "    <tr>\n",
              "      <th id=\"T_28261_level0_row15\" class=\"row_heading level0 row15\" >qda</th>\n",
              "      <td id=\"T_28261_row15_col0\" class=\"data row15 col0\" >Quadratic Discriminant Analysis</td>\n",
              "      <td id=\"T_28261_row15_col1\" class=\"data row15 col1\" >0.7472</td>\n",
              "      <td id=\"T_28261_row15_col2\" class=\"data row15 col2\" >0.8456</td>\n",
              "      <td id=\"T_28261_row15_col3\" class=\"data row15 col3\" >0.6632</td>\n",
              "      <td id=\"T_28261_row15_col4\" class=\"data row15 col4\" >0.2194</td>\n",
              "      <td id=\"T_28261_row15_col5\" class=\"data row15 col5\" >0.3092</td>\n",
              "      <td id=\"T_28261_row15_col6\" class=\"data row15 col6\" >0.2389</td>\n",
              "      <td id=\"T_28261_row15_col7\" class=\"data row15 col7\" >0.2750</td>\n",
              "      <td id=\"T_28261_row15_col8\" class=\"data row15 col8\" >0.0820</td>\n",
              "    </tr>\n",
              "  </tbody>\n",
              "</table>\n"
            ],
            "text/plain": [
              "<pandas.io.formats.style.Styler at 0x1bdd871b790>"
            ]
          },
          "metadata": {},
          "output_type": "display_data"
        },
        {
          "data": {
            "text/html": [],
            "text/plain": [
              "<IPython.core.display.HTML object>"
            ]
          },
          "metadata": {},
          "output_type": "display_data"
        }
      ],
      "source": [
        "best = compare_models()"
      ]
    },
    {
      "cell_type": "code",
      "execution_count": 51,
      "metadata": {},
      "outputs": [
        {
          "name": "stdout",
          "output_type": "stream",
          "text": [
            "Help on function plot_model in module pycaret.classification.functional:\n",
            "\n",
            "plot_model(estimator, plot: str = 'auc', scale: float = 1, save: bool = False, fold: Union[int, Any, NoneType] = None, fit_kwargs: Optional[dict] = None, plot_kwargs: Optional[dict] = None, groups: Union[str, Any, NoneType] = None, verbose: bool = True, display_format: Optional[str] = None) -> Optional[str]\n",
            "    This function analyzes the performance of a trained model on holdout set.\n",
            "    It may require re-training the model in certain cases.\n",
            "    \n",
            "    Example\n",
            "    -------\n",
            "    >>> from pycaret.datasets import get_data\n",
            "    >>> juice = get_data('juice')\n",
            "    >>> from pycaret.classification import *\n",
            "    >>> exp_name = setup(data = juice,  target = 'Purchase')\n",
            "    >>> lr = create_model('lr')\n",
            "    >>> plot_model(lr, plot = 'auc')\n",
            "    \n",
            "    \n",
            "    estimator: scikit-learn compatible object\n",
            "        Trained model object\n",
            "    \n",
            "    \n",
            "    plot: str, default = 'auc'\n",
            "        List of available plots (ID - Name):\n",
            "    \n",
            "        * 'pipeline' - Schematic drawing of the preprocessing pipeline\n",
            "        * 'auc' - Area Under the Curve\n",
            "        * 'threshold' - Discrimination Threshold\n",
            "        * 'pr' - Precision Recall Curve\n",
            "        * 'confusion_matrix' - Confusion Matrix\n",
            "        * 'error' - Class Prediction Error\n",
            "        * 'class_report' - Classification Report\n",
            "        * 'boundary' - Decision Boundary\n",
            "        * 'rfe' - Recursive Feature Selection\n",
            "        * 'learning' - Learning Curve\n",
            "        * 'manifold' - Manifold Learning\n",
            "        * 'calibration' - Calibration Curve\n",
            "        * 'vc' - Validation Curve\n",
            "        * 'dimension' - Dimension Learning\n",
            "        * 'feature' - Feature Importance\n",
            "        * 'feature_all' - Feature Importance (All)\n",
            "        * 'parameter' - Model Hyperparameter\n",
            "        * 'lift' - Lift Curve\n",
            "        * 'gain' - Gain Chart\n",
            "        * 'tree' - Decision Tree\n",
            "        * 'ks' - KS Statistic Plot\n",
            "    \n",
            "    \n",
            "    scale: float, default = 1\n",
            "        The resolution scale of the figure.\n",
            "    \n",
            "    \n",
            "    save: bool, default = False\n",
            "        When set to True, plot is saved in the current working directory.\n",
            "    \n",
            "    \n",
            "    fold: int or scikit-learn compatible CV generator, default = None\n",
            "        Controls cross-validation. If None, the CV generator in the ``fold_strategy``\n",
            "        parameter of the ``setup`` function is used. When an integer is passed,\n",
            "        it is interpreted as the 'n_splits' parameter of the CV generator in the\n",
            "        ``setup`` function.\n",
            "    \n",
            "    \n",
            "    fit_kwargs: dict, default = {} (empty dict)\n",
            "        Dictionary of arguments passed to the fit method of the model.\n",
            "    \n",
            "    \n",
            "    plot_kwargs: dict, default = {} (empty dict)\n",
            "        Dictionary of arguments passed to the visualizer class.\n",
            "            - pipeline: fontsize -> int\n",
            "    \n",
            "    \n",
            "    groups: str or array-like, with shape (n_samples,), default = None\n",
            "        Optional group labels when GroupKFold is used for the cross validation.\n",
            "        It takes an array with shape (n_samples, ) where n_samples is the number\n",
            "        of rows in training dataset. When string is passed, it is interpreted as\n",
            "        the column name in the dataset containing group labels.\n",
            "    \n",
            "    \n",
            "    verbose: bool, default = True\n",
            "        When set to False, progress bar is not displayed.\n",
            "    \n",
            "    \n",
            "    display_format: str, default = None\n",
            "        To display plots in Streamlit (https://www.streamlit.io/), set this to 'streamlit'.\n",
            "        Currently, not all plots are supported.\n",
            "    \n",
            "    \n",
            "    Returns:\n",
            "        Path to saved file, if any.\n",
            "    \n",
            "    \n",
            "    Warnings\n",
            "    --------\n",
            "    -   Estimators that does not support 'predict_proba' attribute cannot be used for\n",
            "        'AUC' and 'calibration' plots.\n",
            "    \n",
            "    -   When the target is multiclass, 'calibration', 'threshold', 'manifold' and 'rfe'\n",
            "        plots are not available.\n",
            "    \n",
            "    -   When the 'max_features' parameter of a trained model object is not equal to\n",
            "        the number of samples in training set, the 'rfe' plot is not available.\n",
            "\n"
          ]
        }
      ],
      "source": [
        "help(plot_model)"
      ]
    },
    {
      "cell_type": "code",
      "execution_count": 57,
      "metadata": {},
      "outputs": [
        {
          "data": {
            "text/html": [],
            "text/plain": [
              "<IPython.core.display.HTML object>"
            ]
          },
          "metadata": {},
          "output_type": "display_data"
        },
        {
          "data": {
            "image/png": "[encoded data removed]",
            "text/plain": [
              "<Figure size 800x500 with 1 Axes>"
            ]
          },
          "metadata": {},
          "output_type": "display_data"
        }
      ],
      "source": [
        "plot_model(best, plot='feature')"
      ]
    },
    {
      "cell_type": "code",
      "execution_count": 58,
      "metadata": {},
      "outputs": [
        {
          "data": {
            "text/html": [],
            "text/plain": [
              "<IPython.core.display.HTML object>"
            ]
          },
          "metadata": {},
          "output_type": "display_data"
        },
        {
          "data": {
            "image/png": "[encoded data removed]",
            "text/plain": [
              "<Figure size 800x550 with 1 Axes>"
            ]
          },
          "metadata": {},
          "output_type": "display_data"
        }
      ],
      "source": [
        "plot_model(best, plot='confusion_matrix')"
      ]
    },
    {
      "cell_type": "code",
      "execution_count": null,
      "metadata": {},
      "outputs": [],
      "source": []
    },
    {
      "cell_type": "code",
      "execution_count": 60,
      "metadata": {},
      "outputs": [
        {
          "data": {
            "text/html": [],
            "text/plain": [
              "<IPython.core.display.HTML object>"
            ]
          },
          "metadata": {},
          "output_type": "display_data"
        }
      ],
      "source": [
        "plot_model(best, plot='learning')"
      ]
    },
    {
      "cell_type": "markdown",
      "metadata": {
        "id": "K8DSS3u1xMpB"
      },
      "source": [
        "### 3.2 Reducción de dimensionalidad [14 puntos]"
      ]
    },
    {
      "cell_type": "markdown",
      "metadata": {
        "id": "RLu0543p876P"
      },
      "source": [
        "<center>\n",
        "<img src='https://i.kym-cdn.com/photos/images/original/002/258/560/668.gif' width=400 />"
      ]
    },
    {
      "cell_type": "markdown",
      "metadata": {
        "id": "QT-bxJ0txwNF"
      },
      "source": [
        "A pesar de los resultados obtenidos previamente, el manager de Jere ha solicitado el entrenamiento de un modelo de XGBoost utilizando los datos disponibles. Además, se debe proceder a realizar una reducción de dimensionalidad basada en la importancia de las características.\n",
        "\n",
        "Para llevar a cabo esta tarea:\n",
        "\n",
        "1. Inicie entrenando un modelo XGBoost con todas las características disponibles. [2 puntos]\n",
        "\n",
        "2. Una vez el modelo esté entrenado, evalúe y clasifique las características según su importancia de forma descendente. [2 puntos]\n",
        "\n",
        "3. Utilice esta clasificación para ejecutar una búsqueda recursiva de eliminación de características, eliminando progresivamente las menos importantes y evaluando el impacto en el desempeño del modelo hasta identificar las N características más críticas. [2 puntos]\n",
        "\n",
        "4. Con este conjunto reducido de características, entrene un nuevo modelo y evalúe su rendimiento. [2 puntos]\n",
        "\n",
        "5. Posteriormente, responda a las siguientes preguntas para una comprensión más profunda de los cambios y beneficios:\n",
        "\n",
        "  - ¿El rendimiento del modelo con las características seleccionadas es similar al del modelo original? ¿Cómo se comparan en términos de precisión y robustez? [2 puntos]\n",
        "  - ¿Cuáles son los beneficios potenciales de eliminar variables del modelo? Considere factores como la simplificación del modelo, reducción del tiempo de entrenamiento, y mejora en la capacidad de generalización. [2 puntos]\n",
        "  - Comente si el modelo con menor dimensionalidad es más sencillo de explicar. Explique brevemente por qué la eliminación de ciertas características puede facilitar la comprensión y la explicación del comportamiento del modelo. [2 puntos]\n",
        "\n",
        "Notar que con esta metodologia buscamos encontrar un punto entermedio entre número de features y desempeño. por esto, si observa que al aumentar features el aumento es despreciable, puede no considerar agregar más features a su modelo."
      ]
    },
    {
      "cell_type": "markdown",
      "metadata": {
        "id": "NHfmK63TuDOS"
      },
      "source": [
        "**Respuesta**"
      ]
    },
    {
      "cell_type": "code",
      "execution_count": null,
      "metadata": {
        "id": "HQwUd_nsuDOe"
      },
      "outputs": [],
      "source": []
    },
    {
      "cell_type": "markdown",
      "metadata": {
        "id": "PTG5cH9r3M9g"
      },
      "source": [
        "### 3.3 Calibración Probabilistica [6 puntos]"
      ]
    },
    {
      "cell_type": "markdown",
      "metadata": {
        "id": "CDL0VqjR7yvb"
      },
      "source": [
        "<center>\n",
        "<img src='https://media2.giphy.com/media/l2Je4Ku0Cx292KWv6/200w.gif?cid=6c09b952y0sihtq9tb6sz8j2023x3zxxp3qx1ocgonkpkblj&ep=v1_gifs_search&rid=200w.gif&ct=g' width=400 />"
      ]
    },
    {
      "cell_type": "markdown",
      "metadata": {
        "id": "qmOKxhAw3sic"
      },
      "source": [
        "Para lograr modelos más modulares, se recomienda realizar una calibración del modelo entrenado anteriormente, con el objetivo de obtener salidas que reflejen mayor modularidad.\n",
        "\n",
        "1. Se solicita que utilice un método de calibración que asegure que las probabilidades generadas incrementen de manera monótona. Una métrica ampliamente utilizada para evaluar la precisión de la calibración de un modelo es el Brier Score. Calcule el Brier Score para el modelo tanto antes como después de la calibración. Esto le permitirá realizar una comparación cuantitativa y determinar si la calibración ha mejorado el rendimiento del modelo. Para más información sobre el Brier Score, puede consultar el siguiente enlace: [Scikit-Learn - Brier Score Loss](https://scikit-learn.org/stable/modules/generated/sklearn.metrics.brier_score_loss.html). [3 puntos]\n",
        "\n",
        "2. Tras la calibración, examine y comente los resultados obtenidos. A su análisis añada una comparación visual de las ideales versus las salidas del modelo original (sin calibrar) y del modelo calibrado. [3 puntos]"
      ]
    },
    {
      "cell_type": "markdown",
      "metadata": {
        "id": "QIiYz_qLuD19"
      },
      "source": [
        "**Respuesta**"
      ]
    },
    {
      "cell_type": "code",
      "execution_count": null,
      "metadata": {
        "id": "l0bfSuiFuD2I"
      },
      "outputs": [],
      "source": []
    }
  ],
  "metadata": {
    "colab": {
      "collapsed_sections": [
        "k-ao0mOU64Ru",
        "Jg_9jBqtgRDO",
        "JdcucZhp-M_0",
        "Qfre1YsSDqla",
        "Bv1HOfcNEPF4",
        "poc9HSNBFeKO",
        "uy5VMU6ae_g6",
        "9bL2m8nNojXM",
        "rD8pQ5Zfq8dE",
        "K8DSS3u1xMpB",
        "PTG5cH9r3M9g"
      ],
      "provenance": []
    },
    "kernelspec": {
      "display_name": "Python 3",
      "name": "python3"
    },
    "language_info": {
      "codemirror_mode": {
        "name": "ipython",
        "version": 3
      },
      "file_extension": ".py",
      "mimetype": "text/x-python",
      "name": "python",
      "nbconvert_exporter": "python",
      "pygments_lexer": "ipython3",
      "version": "3.10.14"
    }
  },
  "nbformat": 4,
  "nbformat_minor": 0
}
